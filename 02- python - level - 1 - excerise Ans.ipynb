{
 "cells": [
  {
   "cell_type": "code",
   "execution_count": 4,
   "metadata": {},
   "outputs": [],
   "source": [
    "# Exercise 1\n",
    "\n",
    "width=17\n",
    "height=12.0\n",
    "delimeter='.'"
   ]
  },
  {
   "cell_type": "code",
   "execution_count": 5,
   "metadata": {},
   "outputs": [
    {
     "data": {
      "text/plain": [
       "8.5"
      ]
     },
     "execution_count": 5,
     "metadata": {},
     "output_type": "execute_result"
    }
   ],
   "source": [
    "width/2"
   ]
  },
  {
   "cell_type": "code",
   "execution_count": 6,
   "metadata": {},
   "outputs": [
    {
     "data": {
      "text/plain": [
       "float"
      ]
     },
     "execution_count": 6,
     "metadata": {},
     "output_type": "execute_result"
    }
   ],
   "source": [
    "type(8.5)"
   ]
  },
  {
   "cell_type": "code",
   "execution_count": 7,
   "metadata": {},
   "outputs": [
    {
     "data": {
      "text/plain": [
       "4.0"
      ]
     },
     "execution_count": 7,
     "metadata": {},
     "output_type": "execute_result"
    }
   ],
   "source": [
    "height/3"
   ]
  },
  {
   "cell_type": "code",
   "execution_count": 8,
   "metadata": {},
   "outputs": [
    {
     "data": {
      "text/plain": [
       "float"
      ]
     },
     "execution_count": 8,
     "metadata": {},
     "output_type": "execute_result"
    }
   ],
   "source": [
    "type(4.0)"
   ]
  },
  {
   "cell_type": "code",
   "execution_count": 9,
   "metadata": {},
   "outputs": [
    {
     "data": {
      "text/plain": [
       "11"
      ]
     },
     "execution_count": 9,
     "metadata": {},
     "output_type": "execute_result"
    }
   ],
   "source": [
    "1+2*5"
   ]
  },
  {
   "cell_type": "code",
   "execution_count": 10,
   "metadata": {},
   "outputs": [
    {
     "data": {
      "text/plain": [
       "int"
      ]
     },
     "execution_count": 10,
     "metadata": {},
     "output_type": "execute_result"
    }
   ],
   "source": [
    "type(11)"
   ]
  },
  {
   "cell_type": "code",
   "execution_count": 11,
   "metadata": {},
   "outputs": [
    {
     "data": {
      "text/plain": [
       "'.....'"
      ]
     },
     "execution_count": 11,
     "metadata": {},
     "output_type": "execute_result"
    }
   ],
   "source": [
    "delimeter*5"
   ]
  },
  {
   "cell_type": "code",
   "execution_count": 12,
   "metadata": {},
   "outputs": [
    {
     "data": {
      "text/plain": [
       "str"
      ]
     },
     "execution_count": 12,
     "metadata": {},
     "output_type": "execute_result"
    }
   ],
   "source": [
    "type('.....')"
   ]
  },
  {
   "cell_type": "code",
   "execution_count": 29,
   "metadata": {},
   "outputs": [
    {
     "name": "stdout",
     "output_type": "stream",
     "text": [
      "Enter radius of sphere:5\n",
      "Volume of sphere: 523.5987755982989\n"
     ]
    }
   ],
   "source": [
    "# Exercise 2 (Q1)\n",
    "\n",
    "import math\n",
    "\n",
    "pi=math.pi\n",
    "\n",
    "r=int(input('Enter radius of sphere:'))\n",
    "\n",
    "x=(4.0/3)*pi*(r**3)\n",
    "\n",
    "print('Volume of sphere:',x)"
   ]
  },
  {
   "cell_type": "code",
   "execution_count": 28,
   "metadata": {},
   "outputs": [
    {
     "name": "stdout",
     "output_type": "stream",
     "text": [
      "Total whole sale cost after shipping is : 646.0500000000001\n"
     ]
    }
   ],
   "source": [
    "# Exercise 2 (Q2)\n",
    "\n",
    "cover_price = 24.95\n",
    "\n",
    "wholesale_price = cover_price * 0.40\n",
    "\n",
    "first_copy = wholesale_price + 3\n",
    "\n",
    "extra_copies = wholesale_price + 0.75\n",
    "\n",
    "total_cost = first_copy + (extra_copies) * 59\n",
    "\n",
    "print ('Total whole sale cost after shipping is :',total_cost)"
   ]
  },
  {
   "cell_type": "code",
   "execution_count": 40,
   "metadata": {},
   "outputs": [
    {
     "name": "stdout",
     "output_type": "stream",
     "text": [
      "Breakfast Time is : 7:30:6\n"
     ]
    }
   ],
   "source": [
    "# Exercise 2 (Q3)\n",
    "\n",
    "# Turns the time into Minutes\n",
    "\n",
    "easy = 8 + (15/60)\n",
    "\n",
    "tempo = 7 + (12/60)\n",
    "\n",
    "# Into Minutes\n",
    "\n",
    "run_time = easy + (3*tempo) + easy\n",
    "\n",
    "# Into Hours\n",
    "\n",
    "start_time = 6 + (52 / 60)\n",
    "\n",
    "run_time_hour = run_time / 60\n",
    "\n",
    "# Breakfast Hour\n",
    "\n",
    "breakfast_time = start_time + run_time_hour\n",
    "\n",
    "bh = int(breakfast_time)\n",
    "\n",
    "# Breakfast Minutes\n",
    "\n",
    "breakfast_time_min = (breakfast_time - bh) * 60\n",
    "\n",
    "bm = int(breakfast_time_min)\n",
    "\n",
    "# Breakfast Seconds\n",
    "\n",
    "breakfast_time_sec = (breakfast_time_min - bm) * 60\n",
    "\n",
    "bs = int (breakfast_time_sec)\n",
    "\n",
    "print('Breakfast Time is : {}:{}:{}'.format(bh,bm,bs))\n"
   ]
  },
  {
   "cell_type": "code",
   "execution_count": 45,
   "metadata": {},
   "outputs": [
    {
     "data": {
      "text/plain": [
       "<Figure size 640x480 with 1 Axes>"
      ]
     },
     "metadata": {},
     "output_type": "display_data"
    },
    {
     "name": "stdout",
     "output_type": "stream",
     "text": [
      "Enter the x1 value :1\n",
      "Enter the y1 value :5\n",
      "Enter the x2 value :5\n",
      "Enter the y2 value :7\n",
      "Distance between (1,5) and (5,7)\n",
      "4.47213595499958\n"
     ]
    }
   ],
   "source": [
    "# Exercise 4\n",
    "\n",
    "import numpy as np\n",
    "\n",
    "import matplotlib.pyplot as plt\n",
    "import matplotlib.image as mpimg\n",
    "\n",
    "def dfun(u,v,w,z):\n",
    "    return np.sqrt(((w-u)**2)+((z-v)**2))\n",
    "\n",
    "img = mpimg.imread('./math.png')\n",
    "plt.imshow(img)\n",
    "plt.show()\n",
    "\n",
    "a=int(input('Enter the x1 value :'))\n",
    "b=int(input('Enter the y1 value :'))\n",
    "\n",
    "c=int(input('Enter the x2 value :'))\n",
    "d=int(input('Enter the y2 value :'))\n",
    "\n",
    "print('Distance between ({},{}) and ({},{})'.format(a,b,c,d))\n",
    "\n",
    "print(dfun(a,b,c,d))"
   ]
  },
  {
   "cell_type": "code",
   "execution_count": 47,
   "metadata": {},
   "outputs": [
    {
     "name": "stdout",
     "output_type": "stream",
     "text": [
      "Enter the first number: 26\n",
      "Enter the second number: 5\n",
      "Quotient : 5\n",
      "Remainder : 1\n"
     ]
    }
   ],
   "source": [
    "# Exercise 5\n",
    "\n",
    "def quotient(a,b):\n",
    "    return a//b\n",
    "def remainder(a,b):\n",
    "    return a%b\n",
    "\n",
    "a=int(input(\"Enter the first number: \"))\n",
    "b=int(input(\"Enter the second number: \"))\n",
    "\n",
    "print(\"Quotient :\",quotient(a,b))\n",
    "print(\"Remainder :\",remainder(a,b))"
   ]
  },
  {
   "cell_type": "markdown",
   "metadata": {},
   "source": [
    "# [Innomatics Technological Hub](https://www.innomatics.in)\n",
    "\n",
    "[www.innomatics.com](https://www.innomatics.in)."
   ]
  }
 ],
 "metadata": {
  "kernelspec": {
   "display_name": "Python 3",
   "language": "python",
   "name": "python3"
  },
  "language_info": {
   "codemirror_mode": {
    "name": "ipython",
    "version": 3
   },
   "file_extension": ".py",
   "mimetype": "text/x-python",
   "name": "python",
   "nbconvert_exporter": "python",
   "pygments_lexer": "ipython3",
   "version": "3.6.5"
  }
 },
 "nbformat": 4,
 "nbformat_minor": 2
}
