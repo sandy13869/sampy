{
 "cells": [
  {
   "cell_type": "markdown",
   "metadata": {},
   "source": [
    "# Error and Exception Handling"
   ]
  },
  {
   "cell_type": "markdown",
   "metadata": {},
   "source": [
    "> - Types of Error and Exceptions\n",
    "> - try - except Blocks\n",
    "> - finally Block\n",
    "> - Raising Exceptions\n",
    "> - Re-raising Exceptins\n",
    "> - Built-in and User-defined Exceptions\n",
    "> - Handling Invoked Functions\n",
    "> - Assertions"
   ]
  },
  {
   "cell_type": "markdown",
   "metadata": {},
   "source": [
    "### Syntax Errors\n",
    "> when we violate the rules of Python and they are most common kind of error. \n",
    "eg: incorrect closing of braces, forgetting `\":\"` in loops etc., \n",
    "\n",
    "### Logical Errors\n",
    "> Specifies all those type of error in which the program executes but gives incorrect results. \n",
    "Logical error may occur due to worng algorithm or logic to solve a particular program. Eg: divisibe by zero or accessing an item in a list where the index of item is outside the bounds of the list, which leads to **`run-time`** error that causes program to terminate abrutly. Such type of run type errors are called <span style='color:red'>***exceptions****</span>."
   ]
  },
  {
   "cell_type": "markdown",
   "metadata": {},
   "source": [
    "### Handling Exceptions\n",
    "\n",
    "\n",
    "<span style=\"color:green\">try</span>:\n",
    "``` \n",
    "statements\n",
    "...```\n",
    "\n",
    "<span style=\"color:green\">except</span> ExceptionName:\n",
    "```\n",
    "statements\n",
    "...\n",
    "```"
   ]
  },
  {
   "cell_type": "markdown",
   "metadata": {},
   "source": [
    "Step - 1: First, ***try*** *block* between the `try` and `except` keyword is executed\n",
    "\n",
    "Step - 2a: If no exception occurs, the except block is skipped\n",
    "\n",
    "Step - 2b: if an exception occurs, during execution of any statement in the try block, then,\n",
    "1. Rest of the statements in the try block is skipped.\n",
    "2. If the exception type matches the exception named after the `except` keyword, the except block is executed and then execution continues after the try statement.\n",
    "3. If an exception occurs which does not match the exception name in the except block, then it is passed on to `try` block (in case of nested try blocks). If no exception handler is found in the program, then it is an *unhandled exception* and the program is terminated with an error message."
   ]
  },
  {
   "cell_type": "markdown",
   "metadata": {},
   "source": [
    "\n",
    "|Exception\t| Cause of Error|\n",
    "|-----------|---------------|\n",
    "|AssertionError|\tRaised when assert statement fails.|\n",
    "|AttributeError |\tRaised when attribute assignment or reference fails.|\n",
    "|EOFError|\tRaised when the input() functions hits end-of-file condition.|\n",
    "|FloatingPointError|\tRaised when a floating point operation fails.|\n",
    "|GeneratorExit|\tRaise when a generator's close() method is called.|\n",
    "|ImportError\t|Raised when the imported module is not found.|\n",
    "|IndexError|\tRaised when index of a sequence is out of range.|\n",
    "|KeyError|\tRaised when a key is not found in a dictionary.|\n",
    "|KeyboardInterrupt|\tRaised when the user hits interrupt key (Ctrl+c or delete).\n",
    "|MemoryError|\tRaised when an operation runs out of memory.\n",
    "|NameError|\tRaised when a variable is not found in local or global scope.\n",
    "|NotImplementedError|\tRaised by abstract methods.\n",
    "|OSError|\tRaised when system operation causes system related error.\n",
    "|OverflowError|\tRaised when result of an arithmetic operation is too large to be represented.\n",
    "|ReferenceError|\tRaised when a weak reference proxy is used to access a garbage collected referent.\n",
    "|RuntimeError| Raised when an error does not fall under any other category.\n",
    "|StopIteration|\tRaised by next() function to indicate that there is no further item to be returned by iterator.\n",
    "|SyntaxError|\tRaised by parser when syntax error is encountered.\n",
    "|IndentationError|\tRaised when there is incorrect indentation.\n",
    "|TabError|\tRaised when indentation consists of inconsistent tabs and spaces.\n",
    "|SystemError|\tRaised when interpreter detects internal error.\n",
    "|SystemExit|\tRaised by sys.exit() function.\n",
    "|TypeError|\tRaised when a function or operation is applied to an object of incorrect type.\n",
    "|UnboundLocalError|\tRaised when a reference is made to a local variable in a function or method, but no value has been bound to that variable.\n",
    "|UnicodeError|\tRaised when a Unicode-related encoding or decoding error occurs.\n",
    "|UnicodeEncodeError|\tRaised when a Unicode-related error occurs during encoding.\n",
    "|UnicodeDecodeError|\tRaised when a Unicode-related error occurs during decoding.\n",
    "|UnicodeTranslateError|\tRaised when a Unicode-related error occurs during translating.\n",
    "|ValueError|\tRaised when a function gets argument of correct type but improper value.\n",
    "|ZeroDivisionError|\tRaised when second operand of division or modulo operation is zero.\n"
   ]
  },
  {
   "cell_type": "markdown",
   "metadata": {},
   "source": [
    "#### 1.   Program to handle the division by zero exception"
   ]
  },
  {
   "cell_type": "code",
   "execution_count": 1,
   "metadata": {},
   "outputs": [
    {
     "name": "stdout",
     "output_type": "stream",
     "text": [
      "Enter the numerator: 5\n",
      "Enter the denominator: 0\n"
     ]
    },
    {
     "ename": "ZeroDivisionError",
     "evalue": "division by zero",
     "output_type": "error",
     "traceback": [
      "\u001b[1;31m---------------------------------------------------------------------------\u001b[0m",
      "\u001b[1;31mZeroDivisionError\u001b[0m                         Traceback (most recent call last)",
      "\u001b[1;32m<ipython-input-1-1443bb8166b5>\u001b[0m in \u001b[0;36m<module>\u001b[1;34m()\u001b[0m\n\u001b[0;32m      2\u001b[0m \u001b[0mdeno\u001b[0m \u001b[1;33m=\u001b[0m \u001b[0mint\u001b[0m\u001b[1;33m(\u001b[0m\u001b[0minput\u001b[0m\u001b[1;33m(\u001b[0m\u001b[1;34m'Enter the denominator: '\u001b[0m\u001b[1;33m)\u001b[0m\u001b[1;33m)\u001b[0m\u001b[1;33m\u001b[0m\u001b[0m\n\u001b[0;32m      3\u001b[0m \u001b[1;31m# try:\u001b[0m\u001b[1;33m\u001b[0m\u001b[1;33m\u001b[0m\u001b[0m\n\u001b[1;32m----> 4\u001b[1;33m \u001b[0mquo\u001b[0m \u001b[1;33m=\u001b[0m \u001b[0mnum\u001b[0m \u001b[1;33m/\u001b[0m \u001b[0mdeno\u001b[0m\u001b[1;33m\u001b[0m\u001b[0m\n\u001b[0m\u001b[0;32m      5\u001b[0m \u001b[0mprint\u001b[0m\u001b[1;33m(\u001b[0m\u001b[1;34m'QUOTIENT :'\u001b[0m\u001b[1;33m,\u001b[0m \u001b[0mquo\u001b[0m\u001b[1;33m)\u001b[0m\u001b[1;33m\u001b[0m\u001b[0m\n\u001b[0;32m      6\u001b[0m \u001b[1;33m\u001b[0m\u001b[0m\n",
      "\u001b[1;31mZeroDivisionError\u001b[0m: division by zero"
     ]
    }
   ],
   "source": [
    "num = int(input('Enter the numerator: '))\n",
    "deno = int(input('Enter the denominator: '))\n",
    "quo = num / deno\n",
    "print('QUOTIENT :', quo)"
   ]
  },
  {
   "cell_type": "code",
   "execution_count": 3,
   "metadata": {},
   "outputs": [
    {
     "name": "stdout",
     "output_type": "stream",
     "text": [
      "Enter the numerator: 5\n",
      "Enter the denominator: 0\n",
      "Can't divide by zero please check the denominator you are dividing with\n"
     ]
    }
   ],
   "source": [
    "num = int(input('Enter the numerator: '))\n",
    "deno = int(input('Enter the denominator: '))\n",
    "try:\n",
    "    quo = num / deno\n",
    "    print('QUOTIENT :', quo)\n",
    "except:\n",
    "    print(\"Can't divide by zero please check the denominator you are dividing with\")"
   ]
  },
  {
   "cell_type": "markdown",
   "metadata": {},
   "source": [
    "### Multiple Except Blocks"
   ]
  },
  {
   "cell_type": "markdown",
   "metadata": {},
   "source": [
    "<span style=\"color:green\">try</span>:\n",
    "``` \n",
    "statements\n",
    "...```\n",
    "\n",
    "<span style=\"color:green\">except</span> Exception1:\n",
    "```\n",
    "statements\n",
    "...\n",
    "```\n",
    "<span style=\"color:green\">except</span> Exception2:\n",
    "```\n",
    "statements\n",
    "...\n",
    "```\n",
    "<span style=\"color:green\">else</span> :\n",
    "```\n",
    "if there is no exception then execute this block\n",
    "...\n",
    "```"
   ]
  },
  {
   "cell_type": "code",
   "execution_count": 3,
   "metadata": {},
   "outputs": [
    {
     "name": "stdout",
     "output_type": "stream",
     "text": [
      "Enter a number: jbj\n",
      "Please check before you enter ... Program Terminated\n",
      "Bye\n"
     ]
    }
   ],
   "source": [
    "try:\n",
    "    num = int(input('Enter a number: '))\n",
    "    print(num**2)\n",
    "except (KeyboardInterrupt):\n",
    "    print('You should have entered a number ... Program Terminated')\n",
    "except (ValueError):\n",
    "    print('Please check before you enter ... Program Terminated')\n",
    "    \n",
    "print('Bye')"
   ]
  },
  {
   "cell_type": "markdown",
   "metadata": {},
   "source": [
    "#### Multiple `Exception` in a singel block "
   ]
  },
  {
   "cell_type": "code",
   "execution_count": 4,
   "metadata": {},
   "outputs": [
    {
     "name": "stdout",
     "output_type": "stream",
     "text": [
      "Enter a number: hhk\n",
      "You should have entered a number ... Program Terminated\n",
      "Bye\n"
     ]
    }
   ],
   "source": [
    "try:\n",
    "    num = int(input('Enter a number: '))\n",
    "    print(num**2)\n",
    "except (KeyboardInterrupt, ValueError, TypeError):\n",
    "    print('You should have entered a number ... Program Terminated')\n",
    "    \n",
    "print('Bye')"
   ]
  },
  {
   "cell_type": "markdown",
   "metadata": {},
   "source": [
    "####  Except without `Exception`"
   ]
  },
  {
   "cell_type": "code",
   "execution_count": 5,
   "metadata": {},
   "outputs": [
    {
     "name": "stdout",
     "output_type": "stream",
     "text": [
      "Unexpected error ... program Ternimating\n"
     ]
    }
   ],
   "source": [
    "try:\n",
    "    file = pen('File.txt')\n",
    "    string = f.readlines()\n",
    "except IOError:\n",
    "    print('Error Occured during Input... program Terminating')\n",
    "except ValueError:\n",
    "    print('Could not convert data')\n",
    "except:\n",
    "    print('Unexpected error ... program Ternimating')\n",
    "\n"
   ]
  },
  {
   "cell_type": "markdown",
   "metadata": {},
   "source": [
    "> **Note*: Using `except` without mentioning any specific exception is not a good programming practice because it catches al exceptions and does not make the programmers identify the root cause of the problems."
   ]
  },
  {
   "cell_type": "markdown",
   "metadata": {},
   "source": [
    "###  The `else` Clause\n",
    "`else` block will be executed only if the <span style=\"color:green\">try</span> clause does not raise any exception."
   ]
  },
  {
   "cell_type": "code",
   "execution_count": 10,
   "metadata": {},
   "outputs": [],
   "source": [
    "def iseven():\n",
    "\n",
    "    try:\n",
    "        num = int(input('Enter any number'))\n",
    "        if num %2 == 0:\n",
    "            print('{} is even number'.format(num))\n",
    "        else:\n",
    "            print(\"{} is odd number\".format(num))\n",
    "    except ValueError:\n",
    "        print('Error ocurred ... Program Termnating')\n",
    "    else:\n",
    "        print('Program executed sucessfully !!!')"
   ]
  },
  {
   "cell_type": "code",
   "execution_count": 11,
   "metadata": {},
   "outputs": [
    {
     "name": "stdout",
     "output_type": "stream",
     "text": [
      "Enter any number5\n",
      "5 is odd number\n",
      "Program executed sucessfully !!!\n"
     ]
    }
   ],
   "source": [
    "iseven()"
   ]
  },
  {
   "cell_type": "code",
   "execution_count": 12,
   "metadata": {},
   "outputs": [
    {
     "name": "stdout",
     "output_type": "stream",
     "text": [
      "Enter any numberddfd\n",
      "Error ocurred ... Program Termnating\n"
     ]
    }
   ],
   "source": [
    "iseven()"
   ]
  },
  {
   "cell_type": "markdown",
   "metadata": {},
   "source": [
    "###  Raising Exceptions\n",
    "\n",
    "You can deliberately raise an exception using <span style=\"color:red\"> raise </span> keyboard"
   ]
  },
  {
   "cell_type": "code",
   "execution_count": 13,
   "metadata": {},
   "outputs": [
    {
     "name": "stdout",
     "output_type": "stream",
     "text": [
      "10\n",
      "Exception occured ... program Terminating\n"
     ]
    }
   ],
   "source": [
    "try:\n",
    "    num = 10\n",
    "    print(num)\n",
    "    raise ValueError\n",
    "except:\n",
    "    print('Exception occured ... program Terminating')"
   ]
  },
  {
   "cell_type": "markdown",
   "metadata": {},
   "source": [
    "### The `finally` block\n",
    "`finally` block is always executed before leaving the try block. This means that the statments written finally block are executed irrespective of whether an exception has occured or not."
   ]
  },
  {
   "cell_type": "code",
   "execution_count": 14,
   "metadata": {},
   "outputs": [
    {
     "name": "stdout",
     "output_type": "stream",
     "text": [
      "Raising Exception ...\n",
      "Performing clean up finally ...\n"
     ]
    },
    {
     "ename": "ValueError",
     "evalue": "",
     "output_type": "error",
     "traceback": [
      "\u001b[1;31m---------------------------------------------------------------------------\u001b[0m",
      "\u001b[1;31mValueError\u001b[0m                                Traceback (most recent call last)",
      "\u001b[1;32m<ipython-input-14-e665b9957424>\u001b[0m in \u001b[0;36m<module>\u001b[1;34m()\u001b[0m\n\u001b[0;32m      1\u001b[0m \u001b[1;32mtry\u001b[0m\u001b[1;33m:\u001b[0m\u001b[1;33m\u001b[0m\u001b[0m\n\u001b[0;32m      2\u001b[0m     \u001b[0mprint\u001b[0m\u001b[1;33m(\u001b[0m\u001b[1;34m'Raising Exception ...'\u001b[0m\u001b[1;33m)\u001b[0m\u001b[1;33m\u001b[0m\u001b[0m\n\u001b[1;32m----> 3\u001b[1;33m     \u001b[1;32mraise\u001b[0m \u001b[0mValueError\u001b[0m\u001b[1;33m\u001b[0m\u001b[0m\n\u001b[0m\u001b[0;32m      4\u001b[0m \u001b[1;32mfinally\u001b[0m\u001b[1;33m:\u001b[0m\u001b[1;33m\u001b[0m\u001b[0m\n\u001b[0;32m      5\u001b[0m     \u001b[0mprint\u001b[0m\u001b[1;33m(\u001b[0m\u001b[1;34m'Performing clean up finally ...'\u001b[0m\u001b[1;33m)\u001b[0m\u001b[1;33m\u001b[0m\u001b[0m\n",
      "\u001b[1;31mValueError\u001b[0m: "
     ]
    }
   ],
   "source": [
    "try:\n",
    "    print('Raising Exception ...')\n",
    "    raise ValueError\n",
    "finally:\n",
    "    print('Performing clean up finally ...')"
   ]
  },
  {
   "cell_type": "code",
   "execution_count": 15,
   "metadata": {},
   "outputs": [
    {
     "name": "stdout",
     "output_type": "stream",
     "text": [
      "Raising Exception ...\n",
      "Exception Caught\n",
      "Performing clean up finally ...\n"
     ]
    }
   ],
   "source": [
    "try:\n",
    "    print('Raising Exception ...')\n",
    "    raise ValueError\n",
    "except:\n",
    "    print('Exception Caught')\n",
    "finally:\n",
    "    print('Performing clean up finally ...')"
   ]
  },
  {
   "cell_type": "code",
   "execution_count": null,
   "metadata": {},
   "outputs": [],
   "source": []
  }
 ],
 "metadata": {
  "kernelspec": {
   "display_name": "Python 3",
   "language": "python",
   "name": "python3"
  },
  "language_info": {
   "codemirror_mode": {
    "name": "ipython",
    "version": 3
   },
   "file_extension": ".py",
   "mimetype": "text/x-python",
   "name": "python",
   "nbconvert_exporter": "python",
   "pygments_lexer": "ipython3",
   "version": "3.6.4"
  }
 },
 "nbformat": 4,
 "nbformat_minor": 2
}
