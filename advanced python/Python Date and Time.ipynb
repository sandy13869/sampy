{
 "cells": [
  {
   "cell_type": "markdown",
   "metadata": {},
   "source": [
    "# Date & Time\n",
    "A Python program can handle date and time in several ways. Converting between date formats is a common chore for computers. Python's time and calendar modules help track dates and times.\n",
    "\n",
    "### Tick\n",
    "Time intervals are floating-point numbers in units of seconds. Particular instants in time are expressed in seconds since 12:00am, January 1, 1970(epoch).\n",
    "\n",
    "There is a popular time module available in Python which provides functions for working with times, and for converting between representations. The function `time.time()` returns the current system time in ticks since 12:00am, January 1, 1970(epoch)."
   ]
  },
  {
   "cell_type": "code",
   "execution_count": 1,
   "metadata": {},
   "outputs": [
    {
     "name": "stdout",
     "output_type": "stream",
     "text": [
      "Number of ticks since 12:00am, January 1, 1970 is  1539434976.3760269\n"
     ]
    }
   ],
   "source": [
    "import time\n",
    "print('Number of ticks since 12:00am, January 1, 1970 is ',time.time())"
   ]
  },
  {
   "cell_type": "markdown",
   "metadata": {},
   "source": [
    "### TimeTuple\n",
    "Many of Python's time functions handle time as a tuple of 9 numbers, as shown below −\n",
    "\n",
    "|Index\t|Field\t|Values|\n",
    "|-------|-------|------|\n",
    "|0\t|4-digit year\t|2008\n",
    "|1\t|Month\t|1 to 12\n",
    "|2\t|Day\t|1 to 31\n",
    "|3\t|Hour\t|0 to 23\n",
    "|4\t|Minute\t|0 to 59\n",
    "|5\t|Second\t|0 to 61 (60 or 61 are leap-seconds)\n",
    "|6\t|Day of Week\t|0 to 6 (0 is Monday)\n",
    "|7\t|Day of year\t|1 to 366 (Julian day)\n",
    "|8\t|Daylight savings\t|-1, 0, 1, -1 means library determines DST"
   ]
  },
  {
   "cell_type": "markdown",
   "metadata": {},
   "source": [
    "### `struct_time`\n",
    "\n",
    "|Index\t|Attributes|\tValues|\n",
    "|-------|----------|----------|\n",
    "|0|\ttm_year|\t2008\n",
    "|1|\ttm_mon\t|1 to 12\n",
    "|2|\ttm_mday\t|1 to 31\n",
    "|3|\ttm_hour\t|0 to 23\n",
    "|4|\ttm_min\t|0 to 59\n",
    "|5|\ttm_sec\t|0 to 61 (60 or 61 are leap-seconds)\n",
    "|6|\ttm_wday\t|0 to 6 (0 is Monday)\n",
    "|7|\ttm_yday\t|1 to 366 (Julian day)\n",
    "|8|\ttm_isdst|\t-1, 0, 1, -1 means library determines DST"
   ]
  },
  {
   "cell_type": "markdown",
   "metadata": {},
   "source": [
    "#### Getting current time"
   ]
  },
  {
   "cell_type": "code",
   "execution_count": null,
   "metadata": {},
   "outputs": [],
   "source": [
    "time.localtime(time.time())"
   ]
  },
  {
   "cell_type": "markdown",
   "metadata": {},
   "source": [
    "####  Getting formatted time"
   ]
  },
  {
   "cell_type": "code",
   "execution_count": null,
   "metadata": {},
   "outputs": [],
   "source": [
    "time.asctime( time.localtime(time.time()) )"
   ]
  },
  {
   "cell_type": "code",
   "execution_count": null,
   "metadata": {},
   "outputs": [],
   "source": [
    "import calendar"
   ]
  },
  {
   "cell_type": "code",
   "execution_count": null,
   "metadata": {},
   "outputs": [],
   "source": [
    "cal = calendar.month(2018, 10)"
   ]
  },
  {
   "cell_type": "code",
   "execution_count": null,
   "metadata": {},
   "outputs": [],
   "source": [
    "print(cal)"
   ]
  },
  {
   "cell_type": "markdown",
   "metadata": {},
   "source": [
    "# The *time* Module"
   ]
  },
  {
   "cell_type": "markdown",
   "metadata": {},
   "source": [
    "There is a popular time module available in Python which provides functions for working with times and for converting between representations. Here is the list of all available methods −"
   ]
  },
  {
   "cell_type": "markdown",
   "metadata": {},
   "source": [
    "|Sr.No. |\tFunction with Description|\n",
    "|-------| ---------------------------|\n",
    "|1 \t|`time.altzone` The offset of the local DST timezone, in seconds west of UTC, if one is defined. This is negative if the local DST timezone is east of UTC (as in Western Europe, including the UK). Only use this if daylight is nonzero.\n",
    "|2 \t|`time.asctime([tupletime])` Accepts a time-tuple and returns a readable 24-character string such as 'Tue Dec 11 18:07:14 2008'.\n",
    "|3 \t|`time.clock( ) `Returns the current CPU time as a floating-point number of seconds. To measure computational costs of different approaches, the value of time.clock is more useful than that of time.time().\n",
    "|4 \t|`time.ctime([secs])` Like asctime(localtime(secs)) and without arguments is like asctime( )\n",
    "|5 \t|`time.gmtime([secs])` Accepts an instant expressed in seconds since the epoch and returns a time-tuple t with the UTC time. Note : t.tm_isdst is always 0\n",
    "|6 \t|`time.localtime([secs])` Accepts an instant expressed in seconds since the epoch and returns a time-tuple t with the local time (t.tm_isdst is 0 or 1, depending on whether DST applies to instant secs by local rules).\n",
    "|7 \t|`time.mktime(tupletime)` Accepts an instant expressed as a time-tuple in local time and returns a floating-point value with the instant expressed in seconds since the epoch.\n",
    "|8 \t|`time.sleep(secs)` Suspends the calling thread for secs seconds.\n",
    "|9 \t|`time.strftime(fmt[,tupletime])` Accepts an instant expressed as a time-tuple in local time and returns a string representing the instant as specified by string fmt.\n",
    "|10 |\t`time.strptime(str,fmt='%a %b %d %H:%M:%S %Y')` Parses str according to format string fmt and returns the instant in time-tuple format.\n",
    "|11 |\t`time.time( ) `Returns the current time instant, a floating-point number of seconds since the epoch.\n",
    "|12 |\t`time.tzset()` Resets the time conversion rules used by the library routines. The environment variable TZ specifies how this is done."
   ]
  },
  {
   "cell_type": "markdown",
   "metadata": {},
   "source": [
    "# Retrun Value\n",
    "This method returns the offset of the local DST timezone, in seconds west of UTC, if one is defined."
   ]
  },
  {
   "cell_type": "code",
   "execution_count": null,
   "metadata": {},
   "outputs": [],
   "source": [
    "print(\"time.altzone %d \"% time.altzone)"
   ]
  },
  {
   "cell_type": "markdown",
   "metadata": {},
   "source": [
    "## `asctime()`"
   ]
  },
  {
   "cell_type": "code",
   "execution_count": null,
   "metadata": {},
   "outputs": [],
   "source": [
    "time.asctime(time.localtime())"
   ]
  },
  {
   "cell_type": "code",
   "execution_count": null,
   "metadata": {},
   "outputs": [],
   "source": [
    "time.localtime()"
   ]
  },
  {
   "cell_type": "markdown",
   "metadata": {},
   "source": [
    "## `sleep`"
   ]
  },
  {
   "cell_type": "code",
   "execution_count": 2,
   "metadata": {},
   "outputs": [],
   "source": [
    "def procedure():\n",
    "    time.sleep(2.5)"
   ]
  },
  {
   "cell_type": "markdown",
   "metadata": {},
   "source": [
    "## `clock()`\n",
    "measure process time"
   ]
  },
  {
   "cell_type": "code",
   "execution_count": 3,
   "metadata": {},
   "outputs": [
    {
     "name": "stdout",
     "output_type": "stream",
     "text": [
      "2.498811641362913\n"
     ]
    }
   ],
   "source": [
    "t0 = time.clock()\n",
    "procedure()\n",
    "print(time.clock())"
   ]
  },
  {
   "cell_type": "markdown",
   "metadata": {},
   "source": [
    "#### Measure wall time"
   ]
  },
  {
   "cell_type": "code",
   "execution_count": 4,
   "metadata": {},
   "outputs": [
    {
     "name": "stdout",
     "output_type": "stream",
     "text": [
      "2.5004916191101074\n"
     ]
    }
   ],
   "source": [
    "t0 = time.time()\n",
    "procedure()\n",
    "print(time.time() - t0)"
   ]
  },
  {
   "cell_type": "markdown",
   "metadata": {},
   "source": [
    "## `ctime()`"
   ]
  },
  {
   "cell_type": "code",
   "execution_count": 12,
   "metadata": {},
   "outputs": [
    {
     "data": {
      "text/plain": [
       "'Sat Oct 13 18:25:16 2018'"
      ]
     },
     "execution_count": 12,
     "metadata": {},
     "output_type": "execute_result"
    }
   ],
   "source": [
    "time.ctime()"
   ]
  },
  {
   "cell_type": "markdown",
   "metadata": {},
   "source": [
    "## `gmtime()`"
   ]
  },
  {
   "cell_type": "code",
   "execution_count": 15,
   "metadata": {},
   "outputs": [
    {
     "data": {
      "text/plain": [
       "time.struct_time(tm_year=2018, tm_mon=10, tm_mday=13, tm_hour=12, tm_min=55, tm_sec=59, tm_wday=5, tm_yday=286, tm_isdst=0)"
      ]
     },
     "execution_count": 15,
     "metadata": {},
     "output_type": "execute_result"
    }
   ],
   "source": [
    "time.gmtime()"
   ]
  },
  {
   "cell_type": "markdown",
   "metadata": {},
   "source": [
    "##  `localtime()`"
   ]
  },
  {
   "cell_type": "code",
   "execution_count": 16,
   "metadata": {},
   "outputs": [
    {
     "data": {
      "text/plain": [
       "time.struct_time(tm_year=2018, tm_mon=10, tm_mday=13, tm_hour=18, tm_min=27, tm_sec=0, tm_wday=5, tm_yday=286, tm_isdst=0)"
      ]
     },
     "execution_count": 16,
     "metadata": {},
     "output_type": "execute_result"
    }
   ],
   "source": [
    "time.localtime()"
   ]
  },
  {
   "cell_type": "markdown",
   "metadata": {},
   "source": [
    "## `mktime()`"
   ]
  },
  {
   "cell_type": "code",
   "execution_count": 21,
   "metadata": {},
   "outputs": [
    {
     "data": {
      "text/plain": [
       "1539435476.0"
      ]
     },
     "execution_count": 21,
     "metadata": {},
     "output_type": "execute_result"
    }
   ],
   "source": [
    "time.mktime(time.localtime())"
   ]
  },
  {
   "cell_type": "markdown",
   "metadata": {},
   "source": [
    "## `sleep()`"
   ]
  },
  {
   "cell_type": "code",
   "execution_count": 22,
   "metadata": {},
   "outputs": [],
   "source": [
    "time.sleep(2.5)"
   ]
  },
  {
   "cell_type": "markdown",
   "metadata": {},
   "source": [
    "## `strftime()`"
   ]
  },
  {
   "cell_type": "markdown",
   "metadata": {},
   "source": [
    "Directive\n",
    "\n",
    "    %a - abbreviated weekday name\n",
    "\n",
    "    %A - full weekday name\n",
    "\n",
    "    %b - abbreviated month name\n",
    "\n",
    "    %B - full month name\n",
    "\n",
    "    %c - preferred date and time representation\n",
    "\n",
    "    %C - century number (the year divided by 100, range 00 to 99)\n",
    "\n",
    "    %d - day of the month (01 to 31)\n",
    "\n",
    "    %D - same as %m/%d/%y\n",
    "\n",
    "    %e - day of the month (1 to 31)\n",
    "\n",
    "    %g - like %G, but without the century\n",
    "\n",
    "    %G - 4-digit year corresponding to the ISO week number (see %V).\n",
    "\n",
    "    %h - same as %b\n",
    "\n",
    "    %H - hour, using a 24-hour clock (00 to 23)\n",
    "\n",
    "    %I - hour, using a 12-hour clock (01 to 12)\n",
    "\n",
    "    %j - day of the year (001 to 366)\n",
    "\n",
    "    %m - month (01 to 12)\n",
    "\n",
    "    %M - minute\n",
    "\n",
    "    %n - newline character\n",
    "\n",
    "    %p - either am or pm according to the given time value\n",
    "\n",
    "    %r - time in a.m. and p.m. notation\n",
    "\n",
    "    %R - time in 24 hour notation\n",
    "\n",
    "    %S - second\n",
    "\n",
    "    %t - tab character\n",
    "\n",
    "    %T - current time, equal to %H:%M:%S\n",
    "\n",
    "    %u - weekday as a number (1 to 7), Monday=1. Warning: In Sun Solaris Sunday=1\n",
    "\n",
    "    %U - week number of the current year, starting with the first Sunday as the first day of the first week\n",
    "\n",
    "    %V - The ISO 8601 week number of the current year (01 to 53), where week 1 is the first week that has at least 4 days in the current year, and with Monday as the first day of the week\n",
    "\n",
    "    %W - week number of the current year, starting with the first Monday as the first day of the first week\n",
    "\n",
    "    %w - day of the week as a decimal, Sunday=0\n",
    "\n",
    "    %x - preferred date representation without the time\n",
    "\n",
    "    %X - preferred time representation without the date\n",
    "\n",
    "    %y - year without a century (range 00 to 99)\n",
    "\n",
    "    %Y - year including the century\n",
    "\n",
    "    %Z or %z - time zone or name or abbreviation\n",
    "\n",
    "    %% - a literal % character\n"
   ]
  },
  {
   "cell_type": "code",
   "execution_count": 1,
   "metadata": {},
   "outputs": [],
   "source": [
    "import time"
   ]
  },
  {
   "cell_type": "code",
   "execution_count": 6,
   "metadata": {},
   "outputs": [
    {
     "data": {
      "text/plain": [
       "'18'"
      ]
     },
     "execution_count": 6,
     "metadata": {},
     "output_type": "execute_result"
    }
   ],
   "source": [
    "time.strftime('%y',time.localtime())"
   ]
  },
  {
   "cell_type": "markdown",
   "metadata": {},
   "source": [
    "The format parameter uses the same directives as those used by strftime();.\n",
    "\n",
    "    it defaults to \"%a %b %d %H:%M:%S %Y\" which matches the formatting returned by ctime()."
   ]
  },
  {
   "cell_type": "code",
   "execution_count": 42,
   "metadata": {},
   "outputs": [
    {
     "data": {
      "text/plain": [
       "time.struct_time(tm_year=2018, tm_mon=11, tm_mday=30, tm_hour=0, tm_min=0, tm_sec=0, tm_wday=4, tm_yday=334, tm_isdst=-1)"
      ]
     },
     "execution_count": 42,
     "metadata": {},
     "output_type": "execute_result"
    }
   ],
   "source": [
    "time.strptime(\"30 Nov 18\", \"%d %b %y\")"
   ]
  },
  {
   "cell_type": "code",
   "execution_count": 44,
   "metadata": {},
   "outputs": [
    {
     "data": {
      "text/plain": [
       "('India Standard Time', 'India Daylight Time')"
      ]
     },
     "execution_count": 44,
     "metadata": {},
     "output_type": "execute_result"
    }
   ],
   "source": [
    "time.tzname"
   ]
  },
  {
   "cell_type": "code",
   "execution_count": null,
   "metadata": {},
   "outputs": [],
   "source": []
  }
 ],
 "metadata": {
  "kernelspec": {
   "display_name": "Python 3",
   "language": "python",
   "name": "python3"
  },
  "language_info": {
   "codemirror_mode": {
    "name": "ipython",
    "version": 3
   },
   "file_extension": ".py",
   "mimetype": "text/x-python",
   "name": "python",
   "nbconvert_exporter": "python",
   "pygments_lexer": "ipython3",
   "version": "3.6.5"
  }
 },
 "nbformat": 4,
 "nbformat_minor": 2
}
