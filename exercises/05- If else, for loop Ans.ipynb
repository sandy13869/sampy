{
 "cells": [
  {
   "cell_type": "code",
   "execution_count": 3,
   "metadata": {},
   "outputs": [
    {
     "name": "stdout",
     "output_type": "stream",
     "text": [
      "minute : 50\n",
      "This is Even minute\n"
     ]
    }
   ],
   "source": [
    "# print this is hour in current minute is odd\n",
    "\n",
    "import time\n",
    "\n",
    "a=int(time.strftime('%M'))\n",
    "\n",
    "print('minute :',a)\n",
    "\n",
    "if a%2 == 0:\n",
    "    print('This is Even minute')\n",
    "\n",
    "else:\n",
    "   print (\"This is Odd minute\")"
   ]
  },
  {
   "cell_type": "code",
   "execution_count": 4,
   "metadata": {},
   "outputs": [
    {
     "name": "stdout",
     "output_type": "stream",
     "text": [
      "Today is Sunday\n",
      "Take Rest.\n"
     ]
    }
   ],
   "source": [
    "# if today is satarday then print 'Party !!!' or if sunday print take rest other wise print work , work, work\n",
    "\n",
    "import time\n",
    "\n",
    "a=time.strftime(\"%A\")\n",
    "\n",
    "print('Today is',a)\n",
    "\n",
    "if a == 'Sunday':\n",
    "    print('Take Rest.')\n",
    "\n",
    "elif a == 'Saturday':\n",
    "    print('Do Party!!!')\n",
    "\n",
    "else:\n",
    "   print (\"Do Work\")"
   ]
  },
  {
   "cell_type": "code",
   "execution_count": 5,
   "metadata": {},
   "outputs": [
    {
     "name": "stdout",
     "output_type": "stream",
     "text": [
      "2002,2009,2016,2023,2037,2044,2051,2058,2072,2079,2086,2093,2107,2114,2121,2128,2142,2149,2156,2163,2177,2184,2191,2198,2212,2219,2226,2233,2247,2254,2261,2268,2282,2289,2296,2303,2317,2324,2331,2338,2352,2359,2366,2373,2387,2394,2401,2408,2422,2429,2436,2443,2457,2464,2471,2478,2492,2499,2506,2513,2527,2534,2541,2548,2562,2569,2576,2583,2597,2604,2611,2618,2632,2639,2646,2653,2667,2674,2681,2688,2702,2709,2716,2723,2737,2744,2751,2758,2772,2779,2786,2793,2807,2814,2821,2828,2842,2849,2856,2863,2877,2884,2891,2898,2912,2919,2926,2933,2947,2954,2961,2968,2982,2989,2996,3003,3017,3024,3031,3038,3052,3059,3066,3073,3087,3094,3101,3108,3122,3129,3136,3143,3157,3164,3171,3178,3192,3199\n"
     ]
    }
   ],
   "source": [
    "\"\"\"Write a program which will find all such numbers which are divisible by 7 but are not a multiple of 5, \n",
    "between 2000 and 3200 (both included). The numbers obtained should be printed in a comma-separated sequence \n",
    "on a single line.\"\"\"\n",
    "\n",
    "nl=[]\n",
    "for x in range(2000, 3200):\n",
    "    if (x%7==0) and (x%5!=0):\n",
    "        nl.append(str(x))\n",
    "print (','.join(nl))"
   ]
  },
  {
   "cell_type": "code",
   "execution_count": 6,
   "metadata": {},
   "outputs": [
    {
     "name": "stdout",
     "output_type": "stream",
     "text": [
      "Enter the value to compute the factorial:7\n",
      "!7 : 5040\n"
     ]
    }
   ],
   "source": [
    "''' Write a program which can compute the factorial of a given numbers. \n",
    "    The results should be printed in a comma-separated sequence on a single line. \n",
    "    Suppose the following input is supplied to the program: 8 Then, the output should be: 40320. '''\n",
    "# User defined Function\n",
    "\n",
    "a=int(input('Enter the value to compute the factorial:'))\n",
    "\n",
    "def fact(n):\n",
    "    if n < 2:\n",
    "        return 1\n",
    "    return n * fact(n - 1)\n",
    "\n",
    "print ('!{} : {}'.format(a,fact(a)))\n",
    "\n"
   ]
  },
  {
   "cell_type": "code",
   "execution_count": null,
   "metadata": {},
   "outputs": [],
   "source": [
    "'''With a given integral number n, write a program to generate a dictionary that contains (i, i*i) \n",
    "such that is an integral number between 1 and n (both included). and then the program should print \n",
    "the dictionary. Suppose the following input is supplied to the program: 8 Then, the output \n",
    "should be: {1: 1, 2: 4, 3: 9, 4: 16, 5: 25, 6: 36, 7: 49, 8: 64}'''\n",
    "\n",
    "n=int(input('Enter the value :'))\n",
    "d=dict()\n",
    "for i in range(1,n+1):\n",
    "    d[i]=i*i\n",
    "print (d)\n",
    "\n",
    "# with while\n",
    "\n",
    "e=dict()\n",
    "count = 1\n",
    "while (count < n):\n",
    "   e[count] = count * count\n",
    "print(e)"
   ]
  },
  {
   "cell_type": "code",
   "execution_count": null,
   "metadata": {},
   "outputs": [],
   "source": []
  }
 ],
 "metadata": {
  "kernelspec": {
   "display_name": "Python 3",
   "language": "python",
   "name": "python3"
  },
  "language_info": {
   "codemirror_mode": {
    "name": "ipython",
    "version": 3
   },
   "file_extension": ".py",
   "mimetype": "text/x-python",
   "name": "python",
   "nbconvert_exporter": "python",
   "pygments_lexer": "ipython3",
   "version": "3.6.5"
  }
 },
 "nbformat": 4,
 "nbformat_minor": 2
}
