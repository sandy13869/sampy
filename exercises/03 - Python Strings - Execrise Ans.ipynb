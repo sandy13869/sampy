{
 "cells": [
  {
   "cell_type": "code",
   "execution_count": 3,
   "metadata": {},
   "outputs": [],
   "source": [
    "# Exercise 1\n",
    "text = \"\"\"The University of Hawaii began using radio to send digital information as early as 1971,using ALOHAnet. \n",
    "Friedhelm Hillebrand conceptualised SMS in 1984 while working for Deutsche Telekom. Sitting at a typewriter at home, \n",
    "Hillebrand typed out random sentences and counted every letter, number, punctuation, and space. \n",
    "Almost every time, the messages contained fewer than 160 characters, thus giving the basis for the \n",
    "limit one could type via text messaging. With Bernard Ghillebaert of France Télécom, he developed \n",
    "a proposal for the GSM (Groupe Spécial Mobile) meeting in February 1985 in Oslo. \n",
    "The first technical solution evolved in a GSM subgroup under the leadership of Finn Trosby. \n",
    "It was further developed under the leadership of Kevin Holley and Ian Harris (see Short Message Service). \n",
    "SMS forms an integral part of SS7 (Signalling System No. 7). Under SS7, it is a \"state\" with a 160 character data, \n",
    "coded in the ITU-T \"T.56\" text format, that has a \"sequence lead in\" to determine different language codes, \n",
    "and may have special character codes that permits, for example, sending simple graphs as text. \n",
    "This was part of ISDN (Integrated Services Digital Network) and since GSM is based on this, \n",
    "made its way to the mobile phone. Messages could be sent and received on ISDN phones, \n",
    "and these can send SMS to any GSM phone. The possibility of doing something is one thing, \n",
    "implementing it another, but systems existed from 1988 that sent SMS messages to mobile phones (compare ND-NOTIS).\"\"\""
   ]
  },
  {
   "cell_type": "code",
   "execution_count": 4,
   "metadata": {},
   "outputs": [
    {
     "data": {
      "text/plain": [
       "1507"
      ]
     },
     "execution_count": 4,
     "metadata": {},
     "output_type": "execute_result"
    }
   ],
   "source": [
    "# Length of the String\n",
    "len(text)"
   ]
  },
  {
   "cell_type": "code",
   "execution_count": 9,
   "metadata": {},
   "outputs": [
    {
     "data": {
      "text/plain": [
       "244"
      ]
     },
     "execution_count": 9,
     "metadata": {},
     "output_type": "execute_result"
    }
   ],
   "source": [
    "# How many words are there in the \"text\"\n",
    "len(text.split())"
   ]
  },
  {
   "cell_type": "code",
   "execution_count": 15,
   "metadata": {},
   "outputs": [
    {
     "data": {
      "text/plain": [
       "174"
      ]
     },
     "execution_count": 15,
     "metadata": {},
     "output_type": "execute_result"
    }
   ],
   "source": [
    "# How many unique words in the \"text\"\n",
    "temp=set(text.split())\n",
    "len(temp)"
   ]
  },
  {
   "cell_type": "code",
   "execution_count": 9,
   "metadata": {},
   "outputs": [
    {
     "name": "stdout",
     "output_type": "stream",
     "text": [
      "lexical_diversity: 1.4022988505747127\n"
     ]
    }
   ],
   "source": [
    "# Find Lexical diversity\n",
    "#lexical_diversity = (number of words)/(number of unique words)\n",
    "temp2=len(text.split())/(len(temp))\n",
    "print('lexical_diversity:',temp2)"
   ]
  },
  {
   "cell_type": "code",
   "execution_count": 62,
   "metadata": {},
   "outputs": [
    {
     "name": "stdout",
     "output_type": "stream",
     "text": [
      "8\n",
      "11\n"
     ]
    }
   ],
   "source": [
    "# Count how many \"the\" in text\n",
    "\n",
    "# Python program to count the number of occurrence \n",
    "# of a word \"the\" in the given string \n",
    "def countOccurences(str, word):\n",
    "     \n",
    "    # split the string by spaces in a\n",
    "    a = str.split(\" \")\n",
    " \n",
    "    # search for pattern in a\n",
    "    count = 0\n",
    "    for i in range(0, len(a)):\n",
    "         \n",
    "        # if match found increase count \n",
    "        if (word == a[i]):\n",
    "           count = count + 1\n",
    "            \n",
    "    return count       \n",
    " \n",
    "# Driver code\n",
    "str =text\n",
    "word =\"the\"\n",
    "print(countOccurences(str, word))\n",
    "\n",
    "\n",
    "# Using String Function\n",
    "print(text.count(\"the\"))"
   ]
  },
  {
   "cell_type": "code",
   "execution_count": 61,
   "metadata": {},
   "outputs": [
    {
     "data": {
      "text/plain": [
       "89"
      ]
     },
     "execution_count": 61,
     "metadata": {},
     "output_type": "execute_result"
    }
   ],
   "source": [
    "# Count how many \"a\" in text\n",
    "text.count(\"a\")"
   ]
  },
  {
   "cell_type": "code",
   "execution_count": 13,
   "metadata": {},
   "outputs": [
    {
     "data": {
      "text/plain": [
       "'The University of Hawaii began using radio to send digital'"
      ]
     },
     "execution_count": 13,
     "metadata": {},
     "output_type": "execute_result"
    }
   ],
   "source": [
    "# Extract First 10 words in text\n",
    "\" \".join(text.split()[:10])"
   ]
  },
  {
   "cell_type": "code",
   "execution_count": 88,
   "metadata": {},
   "outputs": [
    {
     "name": "stdout",
     "output_type": "stream",
     "text": [
      "The University of Hawaii began using radio to send digital Innomatics Technology Hub\n",
      "The University of Hawaii began using radio to send digitalInnomatics Technology Hub\n"
     ]
    }
   ],
   "source": [
    "#Append \" Innomatics Technology Hub\" in first 10 words\n",
    "\n",
    "text2='The University of Hawaii began using radio to send digital'\n",
    "text3='Innomatics Technology Hub'\n",
    "\n",
    "# Method 1\n",
    "\n",
    "print(text2,text3)\n",
    "\n",
    "# Method 2\n",
    "\n",
    "text2 += text3\n",
    " \n",
    "print(text2)"
   ]
  },
  {
   "cell_type": "code",
   "execution_count": 92,
   "metadata": {},
   "outputs": [
    {
     "data": {
      "text/plain": [
       "'The University'"
      ]
     },
     "execution_count": 92,
     "metadata": {},
     "output_type": "execute_result"
    }
   ],
   "source": [
    "# Extract First Fourteen (14) character in text\n",
    "\n",
    "text2[:14]"
   ]
  },
  {
   "cell_type": "code",
   "execution_count": 98,
   "metadata": {},
   "outputs": [
    {
     "data": {
      "text/plain": [
       "'The University of Hawaii began using radio to send digital information as early as'"
      ]
     },
     "execution_count": 98,
     "metadata": {},
     "output_type": "execute_result"
    }
   ],
   "source": [
    "# Extract first Fourteen (14) words in text\n",
    "\n",
    "' '.join(text.split()[:14])"
   ]
  },
  {
   "cell_type": "code",
   "execution_count": 102,
   "metadata": {},
   "outputs": [
    {
     "data": {
      "text/plain": [
       "'THE UNIVERSITY OF HAWAII BEGAN USING RADIO TO SEND DIGITAL'"
      ]
     },
     "execution_count": 102,
     "metadata": {},
     "output_type": "execute_result"
    }
   ],
   "source": [
    "# Extract First 10 words in text\n",
    "# Convert every letter into upper case\n",
    "# Convert every letter into lower case\n",
    "\n",
    "temp=' '.join(text.split()[:10])\n",
    "\n",
    "temp.upper()"
   ]
  },
  {
   "cell_type": "code",
   "execution_count": 103,
   "metadata": {},
   "outputs": [
    {
     "data": {
      "text/plain": [
       "'the university of hawaii began using radio to send digital'"
      ]
     },
     "execution_count": 103,
     "metadata": {},
     "output_type": "execute_result"
    }
   ],
   "source": [
    "# Convert every letter into lower case\n",
    "\n",
    "temp.lower()\n"
   ]
  },
  {
   "cell_type": "code",
   "execution_count": 104,
   "metadata": {},
   "outputs": [
    {
     "data": {
      "text/plain": [
       "['using', 'under', 'under']"
      ]
     },
     "execution_count": 104,
     "metadata": {},
     "output_type": "execute_result"
    }
   ],
   "source": [
    "# Find the list of letter starting with 'u'\n",
    "[ t for t in text.split() if t.startswith('u') ]"
   ]
  },
  {
   "cell_type": "code",
   "execution_count": 105,
   "metadata": {},
   "outputs": [
    {
     "data": {
      "text/plain": [
       "['of', 'out', 'one', 'of', 'of', 'of', 'of', 'of', 'on', 'on', 'of', 'one']"
      ]
     },
     "execution_count": 105,
     "metadata": {},
     "output_type": "execute_result"
    }
   ],
   "source": [
    "# Find the list of letter starting with 'o'\n",
    "[ t for t in text.split() if t.startswith('o') ]"
   ]
  },
  {
   "cell_type": "code",
   "execution_count": 112,
   "metadata": {},
   "outputs": [
    {
     "data": {
      "text/plain": [
       "['The',\n",
       " 'while',\n",
       " 'Deutsche',\n",
       " 'the',\n",
       " 'the',\n",
       " 'the',\n",
       " 'one',\n",
       " 'type',\n",
       " 'France',\n",
       " 'he',\n",
       " 'the',\n",
       " '(Groupe',\n",
       " 'The',\n",
       " 'the',\n",
       " 'the',\n",
       " '(see',\n",
       " 'Message',\n",
       " 'the',\n",
       " '\"sequence',\n",
       " 'determine',\n",
       " 'language',\n",
       " 'have',\n",
       " 'simple',\n",
       " 'since',\n",
       " 'made',\n",
       " 'the',\n",
       " 'mobile',\n",
       " 'be',\n",
       " 'these',\n",
       " 'The',\n",
       " 'one',\n",
       " 'mobile',\n",
       " '(compare']"
      ]
     },
     "execution_count": 112,
     "metadata": {},
     "output_type": "execute_result"
    }
   ],
   "source": [
    "# Find the list of letter ending with 'e'\n",
    "[w for w in text.split() if w.endswith('e')]"
   ]
  },
  {
   "cell_type": "code",
   "execution_count": 113,
   "metadata": {},
   "outputs": [
    {
     "data": {
      "text/plain": [
       "['began',\n",
       " 'information',\n",
       " 'in',\n",
       " 'than',\n",
       " 'in',\n",
       " 'in',\n",
       " 'solution',\n",
       " 'in',\n",
       " 'Finn',\n",
       " 'Kevin',\n",
       " 'Ian',\n",
       " 'an',\n",
       " 'in',\n",
       " 'on',\n",
       " 'on',\n",
       " 'can']"
      ]
     },
     "execution_count": 113,
     "metadata": {},
     "output_type": "execute_result"
    }
   ],
   "source": [
    "# Find the list of letter ending with 'n'\n",
    "[w for w in text.split() if w.endswith('n')]"
   ]
  },
  {
   "cell_type": "code",
   "execution_count": 119,
   "metadata": {},
   "outputs": [
    {
     "data": {
      "text/plain": [
       "'The University Of Hawaii Began Using Radio To Send Digital'"
      ]
     },
     "execution_count": 119,
     "metadata": {},
     "output_type": "execute_result"
    }
   ],
   "source": [
    "# Extract first 10 words of text and Capitalize first letter of each word\n",
    "\n",
    "str1=' '.join(text.split()[:10])\n",
    "str1.title()"
   ]
  },
  {
   "cell_type": "code",
   "execution_count": 123,
   "metadata": {},
   "outputs": [
    {
     "name": "stdout",
     "output_type": "stream",
     "text": [
      "The Innomatics of Hawaii began using radio to send digital information as early as 1971,using ALOHAnet. \n",
      "Friedhelm Hillebrand conceptualised SMS in 1984 while working for Deutsche Telekom. Sitting at a typewriter at home, \n",
      "Hillebrand typed out random sentences and counted every letter, number, punctuation, and space. \n",
      "Almost every time, the messages contained fewer than 160 characters, thus giving the basis for the \n",
      "limit one could type via text messaging. With Bernard Ghillebaert of France Télécom, he developed \n",
      "a proposal for the GSM (Groupe Spécial Mobile) meeting in February 1985 in Oslo. \n",
      "The first technical solution evolved in a GSM subgroup under the leadership of Finn Trosby. \n",
      "It was further developed under the leadership of Kevin Holley and Ian Harris (see Short Message Service). \n",
      "SMS forms an integral part of SS7 (Signalling System No. 7). Under SS7, it is a \"state\" with a 160 character data, \n",
      "coded in the ITU-T \"T.56\" text format, that has a \"sequence lead in\" to determine different language codes, \n",
      "and may have special character codes that permits, for example, sending simple graphs as text. \n",
      "This was part of ISDN (Integrated Services Digital Network) and since GSM is based on this, \n",
      "made its way to the mobile phone. Messages could be sent and received on ISDN phones, \n",
      "and these can send SMS to any GSM phone. The possibility of doing something is one thing, \n",
      "implementing it another, but systems existed from 1988 that sent SMS messages to mobile phones (compare ND-NOTIS).\n"
     ]
    }
   ],
   "source": [
    "# Replace the word \"University\" with name \"Innomatics\" in text\n",
    "\n",
    "print (text.replace(\"University\", \"Innomatics\"))"
   ]
  },
  {
   "cell_type": "code",
   "execution_count": null,
   "metadata": {},
   "outputs": [],
   "source": []
  }
 ],
 "metadata": {
  "kernelspec": {
   "display_name": "Python 3",
   "language": "python",
   "name": "python3"
  },
  "language_info": {
   "codemirror_mode": {
    "name": "ipython",
    "version": 3
   },
   "file_extension": ".py",
   "mimetype": "text/x-python",
   "name": "python",
   "nbconvert_exporter": "python",
   "pygments_lexer": "ipython3",
   "version": "3.6.5"
  }
 },
 "nbformat": 4,
 "nbformat_minor": 2
}
