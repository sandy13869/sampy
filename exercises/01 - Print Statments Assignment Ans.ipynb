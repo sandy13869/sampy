{
 "cells": [
  {
   "cell_type": "code",
   "execution_count": 2,
   "metadata": {},
   "outputs": [
    {
     "data": {
      "text/plain": [
       "'Darwin'"
      ]
     },
     "execution_count": 2,
     "metadata": {},
     "output_type": "execute_result"
    }
   ],
   "source": [
    "# Exercise 1\n",
    "\n",
    "import platform\n",
    "platform.system()"
   ]
  },
  {
   "cell_type": "code",
   "execution_count": 3,
   "metadata": {},
   "outputs": [
    {
     "name": "stdout",
     "output_type": "stream",
     "text": [
      "3.6.5 |Anaconda, Inc.| (default, Apr 26 2018, 08:42:37) \n",
      "[GCC 4.2.1 Compatible Clang 4.0.1 (tags/RELEASE_401/final)]\n"
     ]
    }
   ],
   "source": [
    "# Exercise 2\n",
    "\n",
    "import sys\n",
    "print (sys.version)"
   ]
  },
  {
   "cell_type": "code",
   "execution_count": 4,
   "metadata": {},
   "outputs": [
    {
     "name": "stdout",
     "output_type": "stream",
     "text": [
      "/Users/rajusunkara/Downloads/innomatics\n"
     ]
    }
   ],
   "source": [
    "# Exercise 3\n",
    "\n",
    "import os\n",
    "cwd = os.getcwd()\n",
    "\n",
    "print(cwd)"
   ]
  },
  {
   "cell_type": "code",
   "execution_count": 5,
   "metadata": {},
   "outputs": [
    {
     "name": "stdout",
     "output_type": "stream",
     "text": [
      "2018-08-20\n"
     ]
    }
   ],
   "source": [
    "# Exercise 4 & 5\n",
    "\n",
    "from datetime import date\n",
    "\n",
    "print(date.today())"
   ]
  },
  {
   "cell_type": "code",
   "execution_count": 6,
   "metadata": {},
   "outputs": [
    {
     "name": "stdout",
     "output_type": "stream",
     "text": [
      "Today Day: 20\n",
      "This Month: 08\n",
      "This Year: 2018\n",
      "2018-08-20\n"
     ]
    }
   ],
   "source": [
    "# Exercise 6\n",
    "\n",
    "import time\n",
    "\n",
    "print (\"Today Day: \"  + time.strftime(\"%d\"))\n",
    "\n",
    "print (\"This Month: \"  + time.strftime(\"%m\"))\n",
    "\n",
    "print (\"This Year: \"  + time.strftime(\"%Y\"))\n",
    "\n",
    "print (time.strftime(\"%Y-%m-%d\"))"
   ]
  },
  {
   "cell_type": "code",
   "execution_count": 7,
   "metadata": {},
   "outputs": [],
   "source": [
    "# Exercise 7\n",
    "\n",
    "import time"
   ]
  },
  {
   "cell_type": "code",
   "execution_count": 8,
   "metadata": {},
   "outputs": [
    {
     "name": "stdout",
     "output_type": "stream",
     "text": [
      "time.struct_time(tm_year= 2018, tm_mon= 08, tm_mday= 20, tm_hour= 22, tm_min= 53, tm_sec= 32, tm_wday= Mon, tm_yday= 232, tm_isdst= 34\n"
     ]
    }
   ],
   "source": [
    "# Exercise 8\n",
    "\n",
    "import time\n",
    "\n",
    "print ('time.struct_time(tm_year=',time.strftime(\"%Y\")+', tm_mon=',time.strftime(\"%m\")+', tm_mday=',time.strftime(\"%d\")\n",
    "       +', tm_hour=',time.strftime(\"%H\")+', tm_min=',time.strftime(\"%M\")+', tm_sec=',time.strftime(\"%S\")\n",
    "       +', tm_wday=',time.strftime(\"%a\")+', tm_yday=',time.strftime(\"%j\")+', tm_isdst=',time.strftime(\"%W\"))"
   ]
  },
  {
   "cell_type": "code",
   "execution_count": 9,
   "metadata": {},
   "outputs": [
    {
     "data": {
      "text/plain": [
       "'22:53'"
      ]
     },
     "execution_count": 9,
     "metadata": {},
     "output_type": "execute_result"
    }
   ],
   "source": [
    "# Exercise 9\n",
    "\n",
    "import time\n",
    "\n",
    "time.strftime('%H:%M')"
   ]
  },
  {
   "cell_type": "code",
   "execution_count": 10,
   "metadata": {},
   "outputs": [
    {
     "data": {
      "text/plain": [
       "'Monday PM'"
      ]
     },
     "execution_count": 10,
     "metadata": {},
     "output_type": "execute_result"
    }
   ],
   "source": [
    "# Exercise 10\n",
    "\n",
    "import time\n",
    "\n",
    "time.strftime(\"%A %p\")"
   ]
  },
  {
   "cell_type": "code",
   "execution_count": 11,
   "metadata": {},
   "outputs": [
    {
     "name": "stdout",
     "output_type": "stream",
     "text": [
      "minute : 54\n",
      "This is Even minute\n"
     ]
    }
   ],
   "source": [
    "# Exercise 11\n",
    "\n",
    "import time\n",
    "\n",
    "a=int(time.strftime('%M'))\n",
    "\n",
    "print('minute :',a)\n",
    "\n",
    "if a%2 == 0:\n",
    "    print('This is Even minute')\n",
    "\n",
    "else:\n",
    "   print (\"This is Odd minute\")"
   ]
  },
  {
   "cell_type": "code",
   "execution_count": 12,
   "metadata": {},
   "outputs": [
    {
     "name": "stdout",
     "output_type": "stream",
     "text": [
      "Today is Monday\n",
      "Do Work\n"
     ]
    }
   ],
   "source": [
    "# Exercise 12\n",
    "\n",
    "import time\n",
    "\n",
    "a=time.strftime(\"%A\")\n",
    "\n",
    "print('Today is',a)\n",
    "\n",
    "if a == 'Sunday':\n",
    "    print('Take Rest.')\n",
    "\n",
    "elif a == 'Saturday':\n",
    "    print('Do Party!!!')\n",
    "\n",
    "else:\n",
    "   print (\"Do Work\")"
   ]
  },
  {
   "cell_type": "code",
   "execution_count": 13,
   "metadata": {},
   "outputs": [
    {
     "name": "stdout",
     "output_type": "stream",
     "text": [
      "2002,2009,2016,2023,2037,2044,2051,2058,2072,2079,2086,2093,2107,2114,2121,2128,2142,2149,2156,2163,2177,2184,2191,2198,2212,2219,2226,2233,2247,2254,2261,2268,2282,2289,2296,2303,2317,2324,2331,2338,2352,2359,2366,2373,2387,2394,2401,2408,2422,2429,2436,2443,2457,2464,2471,2478,2492,2499,2506,2513,2527,2534,2541,2548,2562,2569,2576,2583,2597,2604,2611,2618,2632,2639,2646,2653,2667,2674,2681,2688,2702,2709,2716,2723,2737,2744,2751,2758,2772,2779,2786,2793,2807,2814,2821,2828,2842,2849,2856,2863,2877,2884,2891,2898,2912,2919,2926,2933,2947,2954,2961,2968,2982,2989,2996,3003,3017,3024,3031,3038,3052,3059,3066,3073,3087,3094,3101,3108,3122,3129,3136,3143,3157,3164,3171,3178,3192,3199\n"
     ]
    }
   ],
   "source": [
    "# Exercise 13 & 14\n",
    "\n",
    "nl=[]\n",
    "for x in range(2000, 3200):\n",
    "    if (x%7==0) and (x%5!=0):\n",
    "        nl.append(str(x))\n",
    "print (','.join(nl))\n"
   ]
  },
  {
   "cell_type": "code",
   "execution_count": 14,
   "metadata": {},
   "outputs": [
    {
     "name": "stdout",
     "output_type": "stream",
     "text": [
      "Enter the value to compute the factorial:9\n",
      "!9 : 362880\n",
      "===========================\n",
      "!9 : 362880\n"
     ]
    }
   ],
   "source": [
    "# Exercise 15\n",
    "\n",
    "from math import factorial\n",
    "\n",
    "a=int(input('Enter the value to compute the factorial:'))\n",
    "\n",
    "# Predefined Function\n",
    "\n",
    "print ('!{} : {}'.format(a,factorial(a)))\n",
    "\n",
    "print('='*27)\n",
    "\n",
    "\n",
    "# User defined Function\n",
    "\n",
    "def fact(n):\n",
    "    if n < 2:\n",
    "        return 1\n",
    "    return n * fact(n - 1)\n",
    "\n",
    "print ('!{} : {}'.format(a,fact(a)))"
   ]
  },
  {
   "cell_type": "code",
   "execution_count": 15,
   "metadata": {},
   "outputs": [
    {
     "name": "stdout",
     "output_type": "stream",
     "text": [
      "Enter the value :9\n",
      "{1: 1, 2: 4, 3: 9, 4: 16, 5: 25, 6: 36, 7: 49, 8: 64, 9: 81}\n"
     ]
    }
   ],
   "source": [
    "# Exercise 16\n",
    "\n",
    "n=int(input('Enter the value :'))\n",
    "d=dict()\n",
    "for i in range(1,n+1):\n",
    "    d[i]=i*i\n",
    "print (d)"
   ]
  },
  {
   "cell_type": "code",
   "execution_count": 16,
   "metadata": {},
   "outputs": [
    {
     "name": "stdout",
     "output_type": "stream",
     "text": [
      "Input some comma seprated numbers : 2,3,6,7,8,22\n",
      "List :  ['2', '3', '6', '7', '8', '22']\n",
      "Tuple :  ('2', '3', '6', '7', '8', '22')\n"
     ]
    }
   ],
   "source": [
    "# Exercise 19\n",
    "\n",
    "values = input(\"Input some comma seprated numbers : \")\n",
    "list = values.split(\",\")\n",
    "tuple = tuple(list)\n",
    "print('List : ',list)\n",
    "print('Tuple : ',tuple)"
   ]
  },
  {
   "cell_type": "code",
   "execution_count": 19,
   "metadata": {},
   "outputs": [
    {
     "name": "stdout",
     "output_type": "stream",
     "text": [
      "Please enter the value :4\n",
      "Please enter the value :6\n",
      "Enter the keyword {add, sub, mul, div, pow}:pow\n",
      "===========================\n",
      "Power of 4 by 6 is : 4096\n",
      "Operation End\n"
     ]
    }
   ],
   "source": [
    "# Exercise 18\n",
    "\n",
    "def adn(a,b):\n",
    "    return a+b\n",
    "def sub(a,b):\n",
    "    return a-b\n",
    "def div(a,b):\n",
    "    return a/b\n",
    "def mul(a,b):\n",
    "    return a*b\n",
    "def pow(a,b):\n",
    "    return a**b\n",
    "\n",
    "\n",
    "a=int(input('Please enter the value :'))\n",
    "b=int(input('Please enter the value :'))\n",
    "\n",
    "n= input('Enter the keyword {add, sub, mul, div, pow}:')\n",
    "\n",
    "print('='*27)\n",
    "\n",
    "var = n\n",
    "if var == 'add':\n",
    "   print('Addition of {} and {} is: {}'.format(a,b,adn(a,b)))\n",
    "\n",
    "elif var == 'sub':\n",
    "   print('Subtractio of {} from {} is: {}'.format(a,b,sub(a,b)))\n",
    "  \n",
    "elif var == 'mul':\n",
    "   print('Multiplication of {} with {} is: {}'.format(a,b,mul(a,b)))\n",
    "\n",
    "elif var == 'div':\n",
    "   print('Division of {} by {} is: {}'.format(a,b,div(a,b)))\n",
    "\n",
    "elif var == 'pow':\n",
    "   print('Power of {} by {} is : {}'.format(a,b,pow(a,b)))\n",
    "\n",
    "else:\n",
    "   print (\"Invalid Option\")\n",
    "  \n",
    "print (\"Operation End\")"
   ]
  },
  {
   "cell_type": "code",
   "execution_count": null,
   "metadata": {},
   "outputs": [],
   "source": []
  },
  {
   "cell_type": "markdown",
   "metadata": {},
   "source": [
    "# [Innomatics Technological Hub](https://www.innomatics.in)\n",
    "\n",
    "[www.innomatics.com](https://www.innomatics.in)."
   ]
  }
 ],
 "metadata": {
  "kernelspec": {
   "display_name": "Python 3",
   "language": "python",
   "name": "python3"
  },
  "language_info": {
   "codemirror_mode": {
    "name": "ipython",
    "version": 3
   },
   "file_extension": ".py",
   "mimetype": "text/x-python",
   "name": "python",
   "nbconvert_exporter": "python",
   "pygments_lexer": "ipython3",
   "version": "3.6.5"
  }
 },
 "nbformat": 4,
 "nbformat_minor": 2
}
