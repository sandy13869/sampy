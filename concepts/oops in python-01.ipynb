{
 "cells": [
  {
   "cell_type": "markdown",
   "metadata": {},
   "source": [
    "# OOPs Concepts in python"
   ]
  },
  {
   "cell_type": "markdown",
   "metadata": {},
   "source": [
    "# which is in four types\n",
    "- Classes and Objects\n",
    "- Encapsulation\n",
    "- Abstraction\n",
    "- Inheritance\n",
    "- Polymorphism"
   ]
  },
  {
   "cell_type": "markdown",
   "metadata": {},
   "source": [
    "``class classname:\n",
    "    \n",
    "    \n",
    "    \n",
    "    def method1\n",
    "    .\n",
    "    .\n",
    "    \n",
    "    def method2\n",
    "    .\n",
    "    .\n",
    "    .\n",
    "    .\n",
    "    def methodn"
   ]
  },
  {
   "cell_type": "code",
   "execution_count": 38,
   "metadata": {},
   "outputs": [],
   "source": [
    "# create simple class\n",
    "\n",
    "class person:\n",
    "    name = 'sam'\n",
    "    age = 26\n",
    "    def method1(cls):\n",
    "        print('Your name is: ',cls.name)\n",
    "    def method2(cls):\n",
    "        print('Your age is: ',cls.age)"
   ]
  },
  {
   "cell_type": "code",
   "execution_count": 39,
   "metadata": {},
   "outputs": [
    {
     "ename": "NameError",
     "evalue": "name 'p' is not defined",
     "output_type": "error",
     "traceback": [
      "\u001b[0;31m---------------------------------------------------------------------------\u001b[0m",
      "\u001b[0;31mNameError\u001b[0m                                 Traceback (most recent call last)",
      "\u001b[0;32m<ipython-input-39-a2041b62649a>\u001b[0m in \u001b[0;36m<module>\u001b[0;34m()\u001b[0m\n\u001b[0;32m----> 1\u001b[0;31m \u001b[0mp\u001b[0m\u001b[0;34m.\u001b[0m\u001b[0mname\u001b[0m\u001b[0;34m\u001b[0m\u001b[0m\n\u001b[0m",
      "\u001b[0;31mNameError\u001b[0m: name 'p' is not defined"
     ]
    }
   ],
   "source": [
    "p.name"
   ]
  },
  {
   "cell_type": "code",
   "execution_count": 40,
   "metadata": {},
   "outputs": [
    {
     "ename": "NameError",
     "evalue": "name 'p' is not defined",
     "output_type": "error",
     "traceback": [
      "\u001b[0;31m---------------------------------------------------------------------------\u001b[0m",
      "\u001b[0;31mNameError\u001b[0m                                 Traceback (most recent call last)",
      "\u001b[0;32m<ipython-input-40-40aecf650e21>\u001b[0m in \u001b[0;36m<module>\u001b[0;34m()\u001b[0m\n\u001b[0;32m----> 1\u001b[0;31m \u001b[0mp\u001b[0m\u001b[0;34m.\u001b[0m\u001b[0mmethod1\u001b[0m\u001b[0;34m(\u001b[0m\u001b[0;34m)\u001b[0m\u001b[0;34m\u001b[0m\u001b[0m\n\u001b[0m",
      "\u001b[0;31mNameError\u001b[0m: name 'p' is not defined"
     ]
    }
   ],
   "source": [
    "p.method1()"
   ]
  },
  {
   "cell_type": "code",
   "execution_count": 41,
   "metadata": {},
   "outputs": [
    {
     "ename": "NameError",
     "evalue": "name 'p' is not defined",
     "output_type": "error",
     "traceback": [
      "\u001b[0;31m---------------------------------------------------------------------------\u001b[0m",
      "\u001b[0;31mNameError\u001b[0m                                 Traceback (most recent call last)",
      "\u001b[0;32m<ipython-input-41-3523b116dc0e>\u001b[0m in \u001b[0;36m<module>\u001b[0;34m()\u001b[0m\n\u001b[0;32m----> 1\u001b[0;31m \u001b[0mp\u001b[0m\u001b[0;34m.\u001b[0m\u001b[0mage\u001b[0m\u001b[0;34m\u001b[0m\u001b[0m\n\u001b[0m",
      "\u001b[0;31mNameError\u001b[0m: name 'p' is not defined"
     ]
    }
   ],
   "source": [
    "p.age"
   ]
  },
  {
   "cell_type": "code",
   "execution_count": 42,
   "metadata": {},
   "outputs": [
    {
     "ename": "NameError",
     "evalue": "name 'p' is not defined",
     "output_type": "error",
     "traceback": [
      "\u001b[0;31m---------------------------------------------------------------------------\u001b[0m",
      "\u001b[0;31mNameError\u001b[0m                                 Traceback (most recent call last)",
      "\u001b[0;32m<ipython-input-42-df9ef19e63d3>\u001b[0m in \u001b[0;36m<module>\u001b[0;34m()\u001b[0m\n\u001b[0;32m----> 1\u001b[0;31m \u001b[0mp\u001b[0m\u001b[0;34m.\u001b[0m\u001b[0mmethod2\u001b[0m\u001b[0;34m(\u001b[0m\u001b[0;34m)\u001b[0m\u001b[0;34m\u001b[0m\u001b[0m\n\u001b[0m",
      "\u001b[0;31mNameError\u001b[0m: name 'p' is not defined"
     ]
    }
   ],
   "source": [
    "p.method2()"
   ]
  },
  {
   "cell_type": "code",
   "execution_count": 43,
   "metadata": {},
   "outputs": [],
   "source": [
    "p = person()  # call class"
   ]
  },
  {
   "cell_type": "markdown",
   "metadata": {},
   "source": [
    "## Encapsulation"
   ]
  },
  {
   "cell_type": "markdown",
   "metadata": {},
   "source": [
    "`__init__(self)`\n",
    "\n",
    "### It tells about the location / address\n",
    "\n",
    "### Doc string (Multiple lines of commenting sectio for the documentation purpose) \"\"\"   \"\"\"\n"
   ]
  },
  {
   "cell_type": "code",
   "execution_count": 44,
   "metadata": {},
   "outputs": [],
   "source": [
    "class employee:\n",
    "    # DocString\n",
    "    \"\"\"\n",
    "    employee(name = 'Sandeep',age= 'Age')\n",
    "    \"\"\"\n",
    "    # Initialize the cariable\n",
    "    def __init__(self,n,a):\n",
    "        self.name = n\n",
    "        self.age = a\n",
    "        \n",
    "    # Method\n",
    "    def details(self):\n",
    "        print('Hi {} you current is {}'.format(self.name,self.age))"
   ]
  },
  {
   "cell_type": "code",
   "execution_count": 45,
   "metadata": {},
   "outputs": [],
   "source": [
    "e = employee('Sandeep',26) "
   ]
  },
  {
   "cell_type": "code",
   "execution_count": 46,
   "metadata": {},
   "outputs": [
    {
     "name": "stdout",
     "output_type": "stream",
     "text": [
      "Hi Sandeep you current is 26\n"
     ]
    }
   ],
   "source": [
    "e.details()"
   ]
  },
  {
   "cell_type": "code",
   "execution_count": 47,
   "metadata": {},
   "outputs": [],
   "source": [
    "# Salary details class\n",
    "\n",
    "class salary:\n",
    "    def __init__(self,name='.',age=0):\n",
    "        self.name = name\n",
    "        self.age = age\n",
    "    def sal(self,amount):\n",
    "        self.amount = amount\n",
    "        print('Hi {} \\n'.format(self.name))\n",
    "        print('Your current salary is {}'.format(self.amount))"
   ]
  },
  {
   "cell_type": "code",
   "execution_count": 48,
   "metadata": {},
   "outputs": [],
   "source": [
    "s = salary()"
   ]
  },
  {
   "cell_type": "code",
   "execution_count": 49,
   "metadata": {},
   "outputs": [
    {
     "name": "stdout",
     "output_type": "stream",
     "text": [
      "Hi . \n",
      "\n",
      "Your current salary is 50000\n"
     ]
    }
   ],
   "source": [
    "s.sal(50000)"
   ]
  },
  {
   "cell_type": "code",
   "execution_count": 50,
   "metadata": {},
   "outputs": [],
   "source": [
    "# to Modify the sal\n",
    "\n",
    "class salary:\n",
    "    def __init__(self,name='.',age=0):\n",
    "        self.name = name\n",
    "        self.age = age\n",
    "    def sal(self,amount):\n",
    "        self.amount = amount\n",
    "        print('Hi {} \\n'.format(self.name))\n",
    "        print('Your current salary is {}'.format(self.amount))\n",
    "        \n",
    "    #Modify the amount\n",
    "    def modify(self,increment):\n",
    "        self.amount += increment"
   ]
  },
  {
   "cell_type": "code",
   "execution_count": 51,
   "metadata": {},
   "outputs": [],
   "source": [
    "s1 = salary()"
   ]
  },
  {
   "cell_type": "code",
   "execution_count": 52,
   "metadata": {},
   "outputs": [
    {
     "name": "stdout",
     "output_type": "stream",
     "text": [
      "Enter your Name: 666\n",
      "Enter your age: 5\n",
      "Enter your salary:666\n",
      "Hi 666 \n",
      "\n",
      "Your current salary is 666.0\n"
     ]
    }
   ],
   "source": [
    "name = input('Enter your Name: ')\n",
    "age = int(input('Enter your age: '))\n",
    "amount = float(input('Enter your salary:'))\n",
    "s1 = salary(name,age)\n",
    "s1.sal(amount)\n",
    "\n",
    "if s1.amount > 30000:\n",
    "    print('Congrats you got an Increment !!!')\n",
    "    s1.modify(30000)\n",
    "    print('Your current salary is {}'.format(amount))"
   ]
  },
  {
   "cell_type": "code",
   "execution_count": 53,
   "metadata": {},
   "outputs": [
    {
     "data": {
      "text/plain": [
       "666.0"
      ]
     },
     "execution_count": 53,
     "metadata": {},
     "output_type": "execute_result"
    }
   ],
   "source": [
    "s1.amount"
   ]
  },
  {
   "cell_type": "code",
   "execution_count": 54,
   "metadata": {},
   "outputs": [
    {
     "name": "stdout",
     "output_type": "stream",
     "text": [
      "Enter the amount to withdraw:666\n",
      "Hi Sandeep \n",
      "Acc No: xxxxx1234\n",
      "Transaction Successful\n",
      "666.0 has been debited\n",
      "Your Current Balance is: 4334.0\n"
     ]
    }
   ],
   "source": [
    "# Abstraction to Perform the Banking Operation\n",
    "\n",
    "class BankAccount(object):\n",
    "    def __init__(self, initial_balance=0):\n",
    "        self.balance = initial_balance\n",
    "    def deposit(self, amount):\n",
    "        self.balance += amount\n",
    "    def withdraw(self, amount):\n",
    "        self.balance -= amount\n",
    "\n",
    "\n",
    "withdraw = float(input('Enter the amount to withdraw:'))\n",
    "\n",
    "bal = 5000\n",
    "my_account = BankAccount(bal)\n",
    "my_account.withdraw(withdraw)\n",
    "\n",
    "print(\"Hi Sandeep \\nAcc No: xxxxx1234\")\n",
    "\n",
    "if my_account.balance < 0:\n",
    "    print ('Transaction Failed')\n",
    "    print ('Your Current Balance is',bal)\n",
    "else:\n",
    "    print ('Transaction Successful')\n",
    "    print ('{} has been debited'.format(withdraw))\n",
    "    print ('Your Current Balance is:',my_account.balance)\n",
    "\n"
   ]
  },
  {
   "cell_type": "code",
   "execution_count": 55,
   "metadata": {},
   "outputs": [
    {
     "data": {
      "text/plain": [
       "10"
      ]
     },
     "execution_count": 55,
     "metadata": {},
     "output_type": "execute_result"
    }
   ],
   "source": [
    "import functools\n",
    "functools.reduce(lambda x,y: x+y, [4,1,2,3])"
   ]
  },
  {
   "cell_type": "markdown",
   "metadata": {},
   "source": [
    "## Inheritance"
   ]
  },
  {
   "cell_type": "code",
   "execution_count": null,
   "metadata": {},
   "outputs": [],
   "source": []
  },
  {
   "cell_type": "code",
   "execution_count": null,
   "metadata": {},
   "outputs": [],
   "source": []
  },
  {
   "cell_type": "code",
   "execution_count": null,
   "metadata": {},
   "outputs": [],
   "source": []
  },
  {
   "cell_type": "code",
   "execution_count": 56,
   "metadata": {},
   "outputs": [
    {
     "name": "stdout",
     "output_type": "stream",
     "text": [
      "[[[105 119 207]\n",
      "  [106 120 208]\n",
      "  [105 120 205]\n",
      "  ...\n",
      "  [ 73  91 189]\n",
      "  [ 72  92 187]\n",
      "  [ 70  93 187]]\n",
      "\n",
      " [[106 121 206]\n",
      "  [107 122 207]\n",
      "  [106 121 206]\n",
      "  ...\n",
      "  [ 74  90 188]\n",
      "  [ 71  90 185]\n",
      "  [ 70  93 187]]\n",
      "\n",
      " [[106 121 204]\n",
      "  [107 122 205]\n",
      "  [107 122 205]\n",
      "  ...\n",
      "  [ 77  93 191]\n",
      "  [ 73  92 187]\n",
      "  [ 69  92 186]]\n",
      "\n",
      " ...\n",
      "\n",
      " [[ 13  12  20]\n",
      "  [ 15  13  24]\n",
      "  [ 17  15  26]\n",
      "  ...\n",
      "  [151  66  59]\n",
      "  [153  65  61]\n",
      "  [142  61  58]]\n",
      "\n",
      " [[ 15  13  24]\n",
      "  [ 16  14  25]\n",
      "  [ 14  12  23]\n",
      "  ...\n",
      "  [152  67  62]\n",
      "  [154  66  62]\n",
      "  [150  66  64]]\n",
      "\n",
      " [[ 21  17  31]\n",
      "  [ 15  13  24]\n",
      "  [ 12  10  21]\n",
      "  ...\n",
      "  [153  65  63]\n",
      "  [156  66  65]\n",
      "  [152  66  65]]]\n",
      "(1920, 2160, 3)\n"
     ]
    }
   ],
   "source": [
    "from PIL import Image\n",
    "from numpy import*\n",
    "\n",
    "temp=asarray(Image.open('image.jpg'))\n",
    "print(temp)\n",
    "print(temp.shape)"
   ]
  },
  {
   "cell_type": "code",
   "execution_count": 57,
   "metadata": {},
   "outputs": [
    {
     "name": "stdout",
     "output_type": "stream",
     "text": [
      "[[105 119 207 ...  70  93 187]\n",
      " [106 121 206 ...  70  93 187]\n",
      " [106 121 204 ...  69  92 186]\n",
      " ...\n",
      " [ 13  12  20 ... 142  61  58]\n",
      " [ 15  13  24 ... 150  66  64]\n",
      " [ 21  17  31 ... 152  66  65]]\n",
      "(1920, 6480)\n"
     ]
    }
   ],
   "source": [
    "from PIL import Image\n",
    "from numpy import*\n",
    "\n",
    "temp=asarray(Image.open('image.jpg'))\n",
    "x=temp.shape[0]\n",
    "y=temp.shape[1]*temp.shape[2]\n",
    "\n",
    "temp.resize((x,y)) # a 2D array\n",
    "print(temp)\n",
    "print(temp.shape)"
   ]
  },
  {
   "cell_type": "code",
   "execution_count": 58,
   "metadata": {},
   "outputs": [],
   "source": [
    "    from PIL import Image\n",
    "    from numpy import*\n",
    "     \n",
    "    temp=Image.open('image.jpg')\n",
    "    temp=temp.convert('1')      # Convert to black&white\n",
    "    A = array(temp)             # Creates an array, white pixels==True and black pixels==False\n",
    "    new_A=empty((A.shape[0],A.shape[1]),None)    #New array with same size as A"
   ]
  },
  {
   "cell_type": "code",
   "execution_count": 59,
   "metadata": {},
   "outputs": [
    {
     "name": "stdout",
     "output_type": "stream",
     "text": [
      "(1920, 2160)\n"
     ]
    }
   ],
   "source": [
    "print(new_A.shape)"
   ]
  },
  {
   "cell_type": "code",
   "execution_count": 61,
   "metadata": {},
   "outputs": [
    {
     "ename": "NameError",
     "evalue": "name 'Ploygon' is not defined",
     "output_type": "error",
     "traceback": [
      "\u001b[0;31m---------------------------------------------------------------------------\u001b[0m",
      "\u001b[0;31mNameError\u001b[0m                                 Traceback (most recent call last)",
      "\u001b[0;32m<ipython-input-61-6638ab5958a0>\u001b[0m in \u001b[0;36m<module>\u001b[0;34m()\u001b[0m\n\u001b[1;32m     12\u001b[0m \u001b[0;34m\u001b[0m\u001b[0m\n\u001b[1;32m     13\u001b[0m \u001b[0;34m\u001b[0m\u001b[0m\n\u001b[0;32m---> 14\u001b[0;31m \u001b[0mp1\u001b[0m \u001b[0;34m=\u001b[0m \u001b[0mPloygon\u001b[0m\u001b[0;34m(\u001b[0m\u001b[0;34m)\u001b[0m\u001b[0;34m\u001b[0m\u001b[0m\n\u001b[0m\u001b[1;32m     15\u001b[0m \u001b[0mp1\u001b[0m\u001b[0;34m.\u001b[0m\u001b[0minputSides\u001b[0m\u001b[0;34m(\u001b[0m\u001b[0;34m)\u001b[0m\u001b[0;34m\u001b[0m\u001b[0m\n",
      "\u001b[0;31mNameError\u001b[0m: name 'Ploygon' is not defined"
     ]
    }
   ],
   "source": [
    "class Polygon:\n",
    "    def __init__(self, no_of_sides):\n",
    "        self.n = no_of_sides\n",
    "        self.sides = [0 for i in range(no_of_sides)]\n",
    "\n",
    "    def inputSides(self):\n",
    "        self.sides = [float(input(\"Enter side \"+str(i+1)+\" : \")) for i in range(self.n)]\n",
    "\n",
    "    def dispSides(self):\n",
    "        for i in range(self.n):\n",
    "            print(\"Side\",i+1,\"is\",self.sides[i])\n",
    "\n",
    "\n",
    "p1 = Ploygon()\n",
    "p1.inputSides()"
   ]
  },
  {
   "cell_type": "code",
   "execution_count": null,
   "metadata": {},
   "outputs": [],
   "source": []
  }
 ],
 "metadata": {
  "kernelspec": {
   "display_name": "Python 3",
   "language": "python",
   "name": "python3"
  },
  "language_info": {
   "codemirror_mode": {
    "name": "ipython",
    "version": 3
   },
   "file_extension": ".py",
   "mimetype": "text/x-python",
   "name": "python",
   "nbconvert_exporter": "python",
   "pygments_lexer": "ipython3",
   "version": "3.6.5"
  }
 },
 "nbformat": 4,
 "nbformat_minor": 2
}
