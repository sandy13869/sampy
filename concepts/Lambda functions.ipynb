{
 "cells": [
  {
   "cell_type": "code",
   "execution_count": 3,
   "metadata": {},
   "outputs": [
    {
     "data": {
      "text/plain": [
       "'ok'"
      ]
     },
     "execution_count": 3,
     "metadata": {},
     "output_type": "execute_result"
    }
   ],
   "source": [
    "from tkinter import messagebox\n",
    " \n",
    "messagebox.showinfo(\"Title\", \"This is a Test Message\")"
   ]
  },
  {
   "cell_type": "code",
   "execution_count": 4,
   "metadata": {},
   "outputs": [
    {
     "name": "stdout",
     "output_type": "stream",
     "text": [
      "Enter value to be added: 10\n"
     ]
    },
    {
     "data": {
      "text/plain": [
       "[13, 14, 15, 16, 18]"
      ]
     },
     "execution_count": 4,
     "metadata": {},
     "output_type": "execute_result"
    }
   ],
   "source": [
    "\n",
    "sam_list=[3,4,5,6,8]\n",
    "\n",
    "n=int(input('Enter value to be added: '))\n",
    "\n",
    "list(map(lambda x: x + n, sam_list))\n"
   ]
  },
  {
   "cell_type": "code",
   "execution_count": 22,
   "metadata": {},
   "outputs": [
    {
     "name": "stdout",
     "output_type": "stream",
     "text": [
      "[0, 1, 2, 3, 4, 5, 6, 7, 8, 9, 10, 11, 12, 13, 14, 15, 16, 17, 18, 19, 20, 21, 22, 23, 24, 25, 26, 27, 28, 29, 30, 31, 32, 33, 34, 35, 36, 37, 38, 39, 40, 41, 42, 43, 44, 45, 46, 47, 48, 49, 50, 51, 52, 53, 54, 55, 56, 57, 58, 59, 60, 61, 62, 63, 64, 65, 66, 67, 68, 69, 70, 71, 72, 73, 74, 75, 76, 77, 78, 79, 80, 81, 82, 83, 84, 85, 86, 87, 88, 89, 90, 91, 92, 93, 94, 95, 96, 97, 98, 99, 100]\n"
     ]
    }
   ],
   "source": [
    "# Filters\n",
    "def is_even(n):\n",
    "    if n%2==0:\n",
    "        return i\n",
    "\n",
    "l = range(0,101,1)\n",
    "l=list(l)\n",
    "print(l)"
   ]
  },
  {
   "cell_type": "code",
   "execution_count": 23,
   "metadata": {},
   "outputs": [
    {
     "name": "stdout",
     "output_type": "stream",
     "text": [
      "2 is even\n",
      "4 is even\n",
      "6 is even\n",
      "8 is even\n",
      "10 is even\n",
      "12 is even\n",
      "14 is even\n",
      "16 is even\n",
      "18 is even\n",
      "20 is even\n",
      "22 is even\n",
      "24 is even\n",
      "26 is even\n",
      "28 is even\n",
      "30 is even\n",
      "32 is even\n",
      "34 is even\n",
      "36 is even\n",
      "38 is even\n",
      "40 is even\n",
      "42 is even\n",
      "44 is even\n",
      "46 is even\n",
      "48 is even\n",
      "50 is even\n",
      "52 is even\n",
      "54 is even\n",
      "56 is even\n",
      "58 is even\n",
      "60 is even\n",
      "62 is even\n",
      "64 is even\n",
      "66 is even\n",
      "68 is even\n",
      "70 is even\n",
      "72 is even\n",
      "74 is even\n",
      "76 is even\n",
      "78 is even\n",
      "80 is even\n",
      "82 is even\n",
      "84 is even\n",
      "86 is even\n",
      "88 is even\n",
      "90 is even\n",
      "92 is even\n",
      "94 is even\n",
      "96 is even\n",
      "98 is even\n",
      "100 is even\n"
     ]
    }
   ],
   "source": [
    "l = range(0,101,1)\n",
    "l=list(l)\n",
    "for i in l:\n",
    "    if is_even(i):\n",
    "        print(i,'is even')\n",
    "    \n",
    "    \n",
    "    "
   ]
  },
  {
   "cell_type": "code",
   "execution_count": 24,
   "metadata": {},
   "outputs": [
    {
     "data": {
      "text/plain": [
       "False"
      ]
     },
     "execution_count": 24,
     "metadata": {},
     "output_type": "execute_result"
    }
   ],
   "source": [
    "'''even.append(i) and even.exend([i])'''\n",
    "\n",
    "# Create lambda function for even numbers\n",
    "\n",
    "l_add = lambda n:n%2 == 0\n",
    "\n",
    "l_add(5)\n"
   ]
  },
  {
   "cell_type": "code",
   "execution_count": 42,
   "metadata": {},
   "outputs": [
    {
     "name": "stdout",
     "output_type": "stream",
     "text": [
      "By using Append: [0, 2, 4, 6, 8, 10, 12, 14, 16, 18, 20, 22, 24, 26, 28, 30, 32, 34, 36, 38, 40, 42, 44, 46, 48, 50, 52, 54, 56, 58, 60, 62, 64, 66, 68, 70, 72, 74, 76, 78, 80, 82, 84, 86, 88, 90, 92, 94, 96, 98, 100]\n",
      "By using Extend: [0, 2, 4, 6, 8, 10, 12, 14, 16, 18, 20, 22, 24, 26, 28, 30, 32, 34, 36, 38, 40, 42, 44, 46, 48, 50, 52, 54, 56, 58, 60, 62, 64, 66, 68, 70, 72, 74, 76, 78, 80, 82, 84, 86, 88, 90, 92, 94, 96, 98, 100]\n",
      "By using Range: [0, 2, 4, 6, 8, 10, 12, 14, 16, 18, 20, 22, 24, 26, 28, 30, 32, 34, 36, 38, 40, 42, 44, 46, 48, 50, 52, 54, 56, 58, 60, 62, 64, 66, 68, 70, 72, 74, 76, 78, 80, 82, 84, 86, 88, 90, 92, 94, 96, 98, 100]\n"
     ]
    }
   ],
   "source": [
    "even=[]\n",
    "even2=[]\n",
    "for i in l:\n",
    "    if l_add(i):\n",
    "        even.append(i)\n",
    "        even2.extend([i])\n",
    "print('By using Append:',even)\n",
    "\n",
    "print('By using Extend:',even2)\n",
    "\n",
    "rng=range(0,101,2)\n",
    "print('By using Range:',list(rng))\n",
    "    "
   ]
  },
  {
   "cell_type": "code",
   "execution_count": 36,
   "metadata": {},
   "outputs": [
    {
     "name": "stdout",
     "output_type": "stream",
     "text": [
      "[0, 2, 4, 6, 8, 10, 12, 14, 16, 18, 20, 22, 24, 26, 28, 30, 32, 34, 36, 38, 40, 42, 44, 46, 48]\n"
     ]
    }
   ],
   "source": [
    "# Filters using the lambda\n",
    "\n",
    "lst = range(0,50,2)\n",
    "lst=list(lst)\n",
    "print(lst)"
   ]
  },
  {
   "cell_type": "code",
   "execution_count": 47,
   "metadata": {},
   "outputs": [
    {
     "data": {
      "text/plain": [
       "[35.6, 132.8, 181.4, 73.4]"
      ]
     },
     "execution_count": 47,
     "metadata": {},
     "output_type": "execute_result"
    }
   ],
   "source": [
    "# map function and reduce\n",
    "\n",
    "def fahrenheit(T):\n",
    "    return float((float(9)/5)*T + 32)\n",
    "\n",
    "temp=[2,56,83,23]\n",
    "\n",
    "T_temp = list(map(fahrenheit, temp))\n",
    "\n",
    "T_temp"
   ]
  },
  {
   "cell_type": "code",
   "execution_count": 51,
   "metadata": {},
   "outputs": [
    {
     "data": {
      "text/plain": [
       "18"
      ]
     },
     "execution_count": 51,
     "metadata": {},
     "output_type": "execute_result"
    }
   ],
   "source": [
    "# Files\n",
    "# Create a file inno.txt and write \"I am working on it\"\n",
    "\n",
    "my_file = open('innomatics.txt','w') # to create the file \n",
    "\n",
    "#with open('inno.txt','w') # It's overwrites the existing text\n",
    "my_file.write('I am working on it')\n",
    "\n",
    "with open('test_file.txt') as file: # to read the text from the file\n",
    "    print(file.read())"
   ]
  },
  {
   "cell_type": "code",
   "execution_count": 52,
   "metadata": {},
   "outputs": [
    {
     "ename": "FileNotFoundError",
     "evalue": "[Errno 2] No such file or directory: 'test_file.txt'",
     "output_type": "error",
     "traceback": [
      "\u001b[0;31m---------------------------------------------------------------------------\u001b[0m",
      "\u001b[0;31mFileNotFoundError\u001b[0m                         Traceback (most recent call last)",
      "\u001b[0;32m<ipython-input-52-b7cc478ec7aa>\u001b[0m in \u001b[0;36m<module>\u001b[0;34m()\u001b[0m\n\u001b[1;32m      1\u001b[0m \u001b[0;31m# Read Lines\u001b[0m\u001b[0;34m\u001b[0m\u001b[0;34m\u001b[0m\u001b[0m\n\u001b[1;32m      2\u001b[0m \u001b[0;34m\u001b[0m\u001b[0m\n\u001b[0;32m----> 3\u001b[0;31m \u001b[0;32mwith\u001b[0m \u001b[0mopen\u001b[0m\u001b[0;34m(\u001b[0m\u001b[0;34m'test_file.txt'\u001b[0m\u001b[0;34m)\u001b[0m \u001b[0;32mas\u001b[0m \u001b[0mfile\u001b[0m\u001b[0;34m:\u001b[0m\u001b[0;34m\u001b[0m\u001b[0m\n\u001b[0m\u001b[1;32m      4\u001b[0m     \u001b[0mline\u001b[0m \u001b[0;34m=\u001b[0m \u001b[0mfile\u001b[0m\u001b[0;34m.\u001b[0m\u001b[0mreadline\u001b[0m\u001b[0;34m(\u001b[0m\u001b[0;34m)\u001b[0m \u001b[0;31m# Displays and stores all values in the list\u001b[0m\u001b[0;34m\u001b[0m\u001b[0m\n",
      "\u001b[0;31mFileNotFoundError\u001b[0m: [Errno 2] No such file or directory: 'test_file.txt'"
     ]
    }
   ],
   "source": [
    "# Read Lines\n",
    "\n",
    "with open('test_file.txt') as file:\n",
    "    line = file.readline() # Displays and stores all values in the list"
   ]
  },
  {
   "cell_type": "code",
   "execution_count": 54,
   "metadata": {},
   "outputs": [
    {
     "data": {
      "text/plain": [
       "18"
      ]
     },
     "execution_count": 54,
     "metadata": {},
     "output_type": "execute_result"
    }
   ],
   "source": [
    "# Append\n",
    "#with open('test.txt','a') as file:\n",
    " #   file.write(\"\\n append the text\")\n",
    "  #  file.close()\n",
    "my_file = open('test.txt','w') # to create the file \n",
    "\n",
    "#with open('inno.txt','w') # It's overwrites the existing text\n",
    "my_file.write('I am working on it')\n",
    "\n",
    "\n"
   ]
  },
  {
   "cell_type": "code",
   "execution_count": 56,
   "metadata": {},
   "outputs": [
    {
     "name": "stdout",
     "output_type": "stream",
     "text": [
      "\n"
     ]
    }
   ],
   "source": [
    "with open('test.txt') as file: # to read the text from the file\n",
    "    print(file.read())"
   ]
  },
  {
   "cell_type": "code",
   "execution_count": 62,
   "metadata": {},
   "outputs": [
    {
     "ename": "SyntaxError",
     "evalue": "invalid syntax (<ipython-input-62-c8cc0a8f65ed>, line 2)",
     "output_type": "error",
     "traceback": [
      "\u001b[0;36m  File \u001b[0;32m\"<ipython-input-62-c8cc0a8f65ed>\"\u001b[0;36m, line \u001b[0;32m2\u001b[0m\n\u001b[0;31m    with open('test.txt','w') as file\u001b[0m\n\u001b[0m                                     ^\u001b[0m\n\u001b[0;31mSyntaxError\u001b[0m\u001b[0;31m:\u001b[0m invalid syntax\n"
     ]
    }
   ],
   "source": [
    "\n",
    "with open('test.txt','w') as file\n",
    "file.write('I am working on it')\n",
    "file.close()"
   ]
  },
  {
   "cell_type": "code",
   "execution_count": 64,
   "metadata": {},
   "outputs": [],
   "source": [
    "with open('somefile.txt', 'a') as the_file:\n",
    "    the_file.write('Hello\\n')"
   ]
  },
  {
   "cell_type": "code",
   "execution_count": 68,
   "metadata": {},
   "outputs": [
    {
     "name": "stdout",
     "output_type": "stream",
     "text": [
      "Hello\n",
      "\n"
     ]
    }
   ],
   "source": [
    " with open('somefile.txt') as the_file:\n",
    "    print(the_file.read())"
   ]
  },
  {
   "cell_type": "code",
   "execution_count": 74,
   "metadata": {},
   "outputs": [],
   "source": [
    "with open('somefile.txt','w') as the_file:\n",
    "    the_file.write('I am working on it')"
   ]
  },
  {
   "cell_type": "code",
   "execution_count": 77,
   "metadata": {},
   "outputs": [
    {
     "name": "stdout",
     "output_type": "stream",
     "text": [
      "I am working on it\n"
     ]
    }
   ],
   "source": [
    " with open('somefile.txt') as the_file:\n",
    "    print(the_file.read())\n",
    "    the_file.close()"
   ]
  },
  {
   "cell_type": "code",
   "execution_count": 78,
   "metadata": {},
   "outputs": [],
   "source": [
    "with open('somefile.txt', 'a') as the_file:\n",
    "    the_file.write('\\nHello')"
   ]
  },
  {
   "cell_type": "code",
   "execution_count": 79,
   "metadata": {},
   "outputs": [
    {
     "name": "stdout",
     "output_type": "stream",
     "text": [
      "I am working on it\n",
      "Hello\n"
     ]
    }
   ],
   "source": [
    " with open('somefile.txt') as the_file:\n",
    "    print(the_file.read())\n",
    "    the_file.close()"
   ]
  },
  {
   "cell_type": "code",
   "execution_count": 81,
   "metadata": {},
   "outputs": [
    {
     "name": "stdout",
     "output_type": "stream",
     "text": [
      "I am working on it\n",
      "Hello\n",
      "How are you?\n"
     ]
    }
   ],
   "source": [
    "with open('somefile.txt') as the_file:\n",
    "    print(the_file.read())\n",
    "    the_file.close()"
   ]
  },
  {
   "cell_type": "code",
   "execution_count": 111,
   "metadata": {},
   "outputs": [
    {
     "name": "stdout",
     "output_type": "stream",
     "text": [
      "Odd set: [1, 3, 5, 13, 43, 55, 71]\n",
      "Even set: [0, 2, 8, 22, 66, 78]\n"
     ]
    }
   ],
   "source": [
    "# a list contains both even and odd numbers. \n",
    "seq = [0, 1, 2, 3, 5, 8, 13,22,43,55,66,71,78]\n",
    " \n",
    "# result contains odd numbers of the list\n",
    "result = filter(lambda x: x % 2, seq)\n",
    "print('Odd set:',list(result))\n",
    " \n",
    "# result contains even numbers of the list\n",
    "result = filter(lambda x: x % 2 == 0, seq)\n",
    "print('Even set:',list(result))"
   ]
  },
  {
   "cell_type": "code",
   "execution_count": 124,
   "metadata": {},
   "outputs": [
    {
     "name": "stdout",
     "output_type": "stream",
     "text": [
      "18\n",
      "24\n",
      "32\n"
     ]
    }
   ],
   "source": [
    " ages = [5, 12, 17, 18, 24, 32]\n",
    "\n",
    "def myFunc(x):\n",
    "  if x < 18:\n",
    "    return False\n",
    "  else:\n",
    "    return True\n",
    "temp = []\n",
    "adults = filter(myFunc, ages)\n",
    "\n",
    "for x in adults:\n",
    "  print(x)"
   ]
  },
  {
   "cell_type": "code",
   "execution_count": 130,
   "metadata": {},
   "outputs": [
    {
     "data": {
      "text/plain": [
       "[1, 4, 9, 16, 25]"
      ]
     },
     "execution_count": 130,
     "metadata": {},
     "output_type": "execute_result"
    }
   ],
   "source": [
    "items = [1, 2, 3, 4, 5]\n",
    "squared = []\n",
    "for x in items:\n",
    "    squared.append(x ** 2)\n",
    "list(squared)\n"
   ]
  },
  {
   "cell_type": "code",
   "execution_count": 131,
   "metadata": {},
   "outputs": [
    {
     "data": {
      "text/plain": [
       "[1, 4, 9, 16, 25]"
      ]
     },
     "execution_count": 131,
     "metadata": {},
     "output_type": "execute_result"
    }
   ],
   "source": [
    "\n",
    "# User defined with 'map'\n",
    "\n",
    "def sqr(x): return x ** 2\n",
    "list(map(sqr, items))"
   ]
  },
  {
   "cell_type": "code",
   "execution_count": 153,
   "metadata": {},
   "outputs": [
    {
     "name": "stdout",
     "output_type": "stream",
     "text": [
      "Enter range value:33\n",
      "[1, 4, 9, 16, 25, 36, 49, 64, 81, 100, 121, 144, 169, 196, 225, 256, 289, 324, 361, 400, 441, 484, 529, 576, 625, 676, 729, 784, 841, 900, 961, 1024, 1089]\n"
     ]
    }
   ],
   "source": [
    "# Lambda \n",
    "n = int(input(\"Enter range value:\"))\n",
    "\n",
    "lst = range(1,n+1,1)\n",
    "lst = list(lst)\n",
    "lst2 = list(map((lambda x:x**2), lst))\n",
    "print(lst2)\n"
   ]
  },
  {
   "cell_type": "code",
   "execution_count": 162,
   "metadata": {},
   "outputs": [
    {
     "name": "stdout",
     "output_type": "stream",
     "text": [
      "[0, 0, 0]\n",
      "[1, 1, 1]\n",
      "[4, 8, 16]\n",
      "[9, 27, 81]\n",
      "[16, 64, 256]\n"
     ]
    }
   ],
   "source": [
    "# Multiple functions\n",
    "\n",
    "def square(x):\n",
    "        return (x**2)\n",
    "def cube(x):\n",
    "        return (x**3)\n",
    "def forth(x):\n",
    "        return (x**4)\n",
    "\n",
    "funcs = [square, cube, forth]\n",
    "for r in range(5):\n",
    "    value = map(lambda x: x(r), funcs)\n",
    "    print (list(value))"
   ]
  },
  {
   "cell_type": "code",
   "execution_count": null,
   "metadata": {},
   "outputs": [],
   "source": []
  }
 ],
 "metadata": {
  "kernelspec": {
   "display_name": "Python 3",
   "language": "python",
   "name": "python3"
  },
  "language_info": {
   "codemirror_mode": {
    "name": "ipython",
    "version": 3
   },
   "file_extension": ".py",
   "mimetype": "text/x-python",
   "name": "python",
   "nbconvert_exporter": "python",
   "pygments_lexer": "ipython3",
   "version": "3.6.5"
  }
 },
 "nbformat": 4,
 "nbformat_minor": 2
}
