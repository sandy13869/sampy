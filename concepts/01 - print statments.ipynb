{
 "cells": [
  {
   "cell_type": "markdown",
   "metadata": {},
   "source": [
    "# JUlia PYThon R - JUPYTER\n",
    "## will works in Default web browser\n",
    "## powerful tool fof python\n",
    "### Particularly for data analysis (widely used by many MNCs)\n",
    "\n",
    "#### Language used to markdown is LATEX\n",
    "\n",
    "# cell and md-Markdown\n",
    "## Small heading\n",
    "### Still Smaller\n",
    "###### more smaller\n",
    "shift + enter\n",
    "\n",
    "language used is Latex\n",
    "\n",
    "**Bold double star**\n",
    "\n",
    "*itallic single star*\n",
    "\n",
    "***Blod Italic***\n",
    "\n",
    "#Quotes\n",
    "\n",
    "> for quotes we use angle bracket\n",
    "\n",
    "# for equation\n",
    "\n",
    "$ X^3 $\n",
    "\n",
    "\n",
    "![image](image.jpg)"
   ]
  },
  {
   "cell_type": "code",
   "execution_count": 3,
   "metadata": {
    "scrolled": true
   },
   "outputs": [
    {
     "name": "stdout",
     "output_type": "stream",
     "text": [
      "welcome to Data Science\n"
     ]
    }
   ],
   "source": [
    "# sdfd\n",
    "print('welcome to Data Science')\n",
    "\n",
    "# Extension is IPYNB '.ipynb'"
   ]
  },
  {
   "cell_type": "markdown",
   "metadata": {},
   "source": [
    "** Load image into Jupyter notebook **\n",
    "\n",
    "press esc to turn into blue and press 'm' to turn into markdown\n",
    "\n",
    "shortcut key for adding cells\n",
    "\n",
    "-for above - a\n",
    "-for below - b\n",
    "-for delete press d two times\n"
   ]
  }
 ],
 "metadata": {
  "kernelspec": {
   "display_name": "Python 3",
   "language": "python",
   "name": "python3"
  },
  "language_info": {
   "codemirror_mode": {
    "name": "ipython",
    "version": 3
   },
   "file_extension": ".py",
   "mimetype": "text/x-python",
   "name": "python",
   "nbconvert_exporter": "python",
   "pygments_lexer": "ipython3",
   "version": "3.6.5"
  }
 },
 "nbformat": 4,
 "nbformat_minor": 2
}
