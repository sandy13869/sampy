{
 "cells": [
  {
   "cell_type": "code",
   "execution_count": null,
   "metadata": {},
   "outputs": [],
   "source": [
    "# Exercise 1\n",
    "\n",
    "import sys\n",
    "platform.system()"
   ]
  },
  {
   "cell_type": "code",
   "execution_count": null,
   "metadata": {},
   "outputs": [],
   "source": [
    "# Exercise 2\n",
    "\n",
    "import sys\n",
    "print (sys.version)"
   ]
  },
  {
   "cell_type": "code",
   "execution_count": null,
   "metadata": {},
   "outputs": [],
   "source": [
    "# Exercise 3\n",
    "\n",
    "import os\n",
    "cwd = os.getcwd()\n",
    "\n",
    "print(cwd)\n"
   ]
  },
  {
   "cell_type": "code",
   "execution_count": null,
   "metadata": {},
   "outputs": [],
   "source": [
    "# Exercise 4 & 5\n",
    "\n",
    "from datetime import date\n",
    "\n",
    "print(date.today())"
   ]
  },
  {
   "cell_type": "code",
   "execution_count": null,
   "metadata": {},
   "outputs": [],
   "source": [
    "# Exercise 6\n",
    "\n",
    "import time\n",
    "\n",
    "print (\"Today Day: \"  + time.strftime(\"%d\"))\n",
    "\n",
    "print (\"This Month: \"  + time.strftime(\"%m\"))\n",
    "\n",
    "print (\"This Year: \"  + time.strftime(\"%Y\"))\n",
    "\n",
    "print (time.strftime(\"%Y-%m-%d\"))"
   ]
  },
  {
   "cell_type": "code",
   "execution_count": null,
   "metadata": {},
   "outputs": [],
   "source": [
    "# Exercise 7\n",
    "\n",
    "import time"
   ]
  },
  {
   "cell_type": "code",
   "execution_count": null,
   "metadata": {},
   "outputs": [],
   "source": [
    "# Exercise 8\n",
    "\n",
    "import time\n",
    "\n",
    "print ('time.struct_time(tm_year=',time.strftime(\"%Y\")+', tm_mon=',time.strftime(\"%m\")+', tm_mday=',time.strftime(\"%d\")\n",
    "       +', tm_hour=',time.strftime(\"%H\")+', tm_min=',time.strftime(\"%M\")+', tm_sec=',time.strftime(\"%S\")\n",
    "       +', tm_wday=',time.strftime(\"%a\")+', tm_yday=',time.strftime(\"%j\")+', tm_isdst=',time.strftime(\"%W\"))"
   ]
  },
  {
   "cell_type": "code",
   "execution_count": null,
   "metadata": {},
   "outputs": [],
   "source": [
    "# Exercise 9\n",
    "\n",
    "import time\n",
    "\n",
    "time.strftime('%H:%M')"
   ]
  },
  {
   "cell_type": "code",
   "execution_count": null,
   "metadata": {},
   "outputs": [],
   "source": [
    "# Exercise 10\n",
    "\n",
    "import time\n",
    "\n",
    "time.strftime(\"%A %p\")"
   ]
  },
  {
   "cell_type": "code",
   "execution_count": null,
   "metadata": {},
   "outputs": [],
   "source": [
    "# Exercise 11\n",
    "\n",
    "import time\n",
    "\n",
    "a=int(time.strftime('%M'))\n",
    "\n",
    "print('minute :',a)\n",
    "\n",
    "if a%2 == 0:\n",
    "    print('This is Even minute')\n",
    "\n",
    "else:\n",
    "   print (\"This is Odd minute\")\n"
   ]
  },
  {
   "cell_type": "code",
   "execution_count": null,
   "metadata": {},
   "outputs": [],
   "source": [
    "# Exercise 12\n",
    "\n",
    "import time\n",
    "\n",
    "a=time.strftime(\"%A\")\n",
    "\n",
    "print('Today is',a)\n",
    "\n",
    "if a == 'Sunday':\n",
    "    print('Take Rest.')\n",
    "\n",
    "elif a == 'Saturday':\n",
    "    print('Do Party!!!')\n",
    "\n",
    "else:\n",
    "   print (\"Do Work\")\n",
    "\n"
   ]
  },
  {
   "cell_type": "code",
   "execution_count": null,
   "metadata": {},
   "outputs": [],
   "source": [
    "# Exercise 13 & 14\n",
    "\n",
    "nl=[]\n",
    "for x in range(2000, 3200):\n",
    "    if (x%7==0) and (x%5!=0):\n",
    "        nl.append(str(x))\n",
    "print (','.join(nl))\n"
   ]
  },
  {
   "cell_type": "code",
   "execution_count": null,
   "metadata": {},
   "outputs": [],
   "source": [
    "# Exercise 15\n",
    "\n",
    "from math import factorial\n",
    "\n",
    "a=int(input('Enter the value to compute the factorial:'))\n",
    "\n",
    "# Predefined Function\n",
    "\n",
    "print ('!{} : {}'.format(a,factorial(a)))\n",
    "\n",
    "print('='*27)\n",
    "\n",
    "\n",
    "# User defined Function\n",
    "\n",
    "def fact(n):\n",
    "    if n < 2:\n",
    "        return 1\n",
    "    return n * fact(n - 1)\n",
    "\n",
    "print ('!{} : {}'.format(a,fact(a)))"
   ]
  },
  {
   "cell_type": "code",
   "execution_count": null,
   "metadata": {},
   "outputs": [],
   "source": [
    "# Exercise 16\n",
    "\n",
    "n=int(input('Enter the value :'))\n",
    "d=dict()\n",
    "for i in range(1,n+1):\n",
    "    d[i]=i*i\n",
    "print (d)\n"
   ]
  },
  {
   "cell_type": "code",
   "execution_count": null,
   "metadata": {},
   "outputs": [],
   "source": [
    "# Exercise 19\n",
    "\n",
    "values = input(\"Input some comma seprated numbers : \")\n",
    "list = values.split(\",\")\n",
    "tuple = tuple(list)\n",
    "print('List : ',list)\n",
    "print('Tuple : ',tuple)\n"
   ]
  },
  {
   "cell_type": "code",
   "execution_count": null,
   "metadata": {},
   "outputs": [],
   "source": [
    "# Exercise 18\n",
    "\n",
    "def adn(a,b):\n",
    "    return a+b\n",
    "def sub(a,b):\n",
    "    return a-b\n",
    "def div(a,b):\n",
    "    return a/b\n",
    "def mul(a,b):\n",
    "    return a*b\n",
    "def pow(a,b):\n",
    "    return a**b\n",
    "\n",
    "\n",
    "a=int(input('Please enter the value :'))\n",
    "b=int(input('Please enter the value :'))\n",
    "\n",
    "n= input('Enter the keyword {add, sub, mul, div, pow}:')\n",
    "\n",
    "print('='*27)\n",
    "\n",
    "var = n\n",
    "if var == 'add':\n",
    "   print('Addition of {} and {} is: {}'.format(a,b,adn(a,b)))\n",
    "\n",
    "elif var == 'sub':\n",
    "   print('Subtractio of {} from {} is: {}'.format(a,b,sub(a,b)))\n",
    "  \n",
    "elif var == 'mul':\n",
    "   print('Multiplication of {} with {} is: {}'.format(a,b,mul(a,b)))\n",
    "\n",
    "elif var == 'div':\n",
    "   print('Division of {} by {} is: {}'.format(a,b,div(a,b)))\n",
    "\n",
    "elif var == 'pow':\n",
    "   print('Power of {} by {} is : {}'.format(a,b,pow))\n",
    "\n",
    "else:\n",
    "   print (\"Invalid Option\")\n",
    "  \n",
    "print (\"Operation End\")\n"
   ]
  },
  {
   "cell_type": "code",
   "execution_count": null,
   "metadata": {},
   "outputs": [],
   "source": []
  },
  {
   "cell_type": "markdown",
   "metadata": {},
   "source": [
    "# [Innomatics Technological Hub](https://www.innomatics.in)\n",
    "\n",
    "[www.innomatics.com](https://www.innomatics.in)."
   ]
  }
 ],
 "metadata": {
  "kernelspec": {
   "display_name": "Python 3",
   "language": "python",
   "name": "python3"
  },
  "language_info": {
   "codemirror_mode": {
    "name": "ipython",
    "version": 3
   },
   "file_extension": ".py",
   "mimetype": "text/x-python",
   "name": "python",
   "nbconvert_exporter": "python",
   "pygments_lexer": "ipython3",
   "version": "3.6.5"
  }
 },
 "nbformat": 4,
 "nbformat_minor": 2
}
