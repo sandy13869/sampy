{
 "cells": [
  {
   "cell_type": "code",
   "execution_count": 14,
   "metadata": {},
   "outputs": [
    {
     "name": "stdout",
     "output_type": "stream",
     "text": [
      "['Gender', 'Location', 'Name', 'Occupation']\n"
     ]
    }
   ],
   "source": [
    "# Create Dictionary for following information as \"person1\":\n",
    "\n",
    "person1 = {'Gender': 'Male',\n",
    " 'Location': 'Nizampet, Hyderabad',\n",
    " 'Name': 'Srikanth',\n",
    " 'Occupation': 'Data Scientist'}\n",
    "\n",
    "# print keys in person1 as a list\n",
    "\n",
    "print(list(person1))\n"
   ]
  },
  {
   "cell_type": "code",
   "execution_count": 15,
   "metadata": {},
   "outputs": [
    {
     "data": {
      "text/plain": [
       "{'Gender': 'Male',\n",
       " 'Location': 'Nizampet, Hyderabad',\n",
       " 'Name': 'Srikanth',\n",
       " 'Occupation': 'Data Scientist',\n",
       " 'Age': 27}"
      ]
     },
     "execution_count": 15,
     "metadata": {},
     "output_type": "execute_result"
    }
   ],
   "source": [
    "# Srikanth age is 27. Assign his age in person1 as key \"Age\"\n",
    "\n",
    "person1.update({'Age':27})\n",
    "person1"
   ]
  },
  {
   "cell_type": "code",
   "execution_count": 16,
   "metadata": {},
   "outputs": [
    {
     "data": {
      "text/plain": [
       "{'Gender': 'Male',\n",
       " 'Name': 'Srikanth',\n",
       " 'Occupation': 'Data Scientist',\n",
       " 'Age': 27}"
      ]
     },
     "execution_count": 16,
     "metadata": {},
     "output_type": "execute_result"
    }
   ],
   "source": [
    "# Remove Location in person1\n",
    "del person1['Location']\n",
    "person1"
   ]
  },
  {
   "cell_type": "code",
   "execution_count": 35,
   "metadata": {},
   "outputs": [],
   "source": [
    "# Create dictionary of person2 with\n",
    "person2 = {'Gender': 'Male',\n",
    " 'Name': 'Sandeep',\n",
    " 'Occupation': 'Web Designer','Age': 26}\n"
   ]
  },
  {
   "cell_type": "code",
   "execution_count": 47,
   "metadata": {},
   "outputs": [
    {
     "name": "stdout",
     "output_type": "stream",
     "text": [
      "==================== person1 ====================\n",
      "{'Gender': 'Male', 'Name': 'Srikanth', 'Occupation': 'Data Scientist', 'Age': 27}\n",
      "==================== person2 ====================\n",
      "{'Gender': 'Male', 'Name': 'Sandeep', 'Occupation': 'Web Designer', 'Age': 26}\n"
     ]
    }
   ],
   "source": [
    "# Append values on Person1 and Person2\n",
    "\n",
    "print('='*20,'person1','='*20)\n",
    "print(person1)\n",
    "print('='*20,'person2','='*20)\n",
    "print(person2)"
   ]
  },
  {
   "cell_type": "code",
   "execution_count": 48,
   "metadata": {},
   "outputs": [
    {
     "name": "stdout",
     "output_type": "stream",
     "text": [
      "Gender ['Male', 'Male']\n",
      "Name ['Srikanth', 'Sandeep']\n",
      "Occupation ['Data Scientist', 'Web Designer']\n",
      "Age [27, 26]\n"
     ]
    }
   ],
   "source": [
    "# Merge two dictionaries\n",
    "from itertools import chain\n",
    "from collections import defaultdict\n",
    "\n",
    "persons = defaultdict(list)\n",
    "for k, v in chain(person1.items(), person2.items()):\n",
    "    persons[k].append(v)\n",
    " \n",
    "for k, v in persons.items():\n",
    "    print(k, v)"
   ]
  },
  {
   "cell_type": "code",
   "execution_count": null,
   "metadata": {},
   "outputs": [],
   "source": []
  }
 ],
 "metadata": {
  "kernelspec": {
   "display_name": "Python 3",
   "language": "python",
   "name": "python3"
  },
  "language_info": {
   "codemirror_mode": {
    "name": "ipython",
    "version": 3
   },
   "file_extension": ".py",
   "mimetype": "text/x-python",
   "name": "python",
   "nbconvert_exporter": "python",
   "pygments_lexer": "ipython3",
   "version": "3.6.5"
  }
 },
 "nbformat": 4,
 "nbformat_minor": 2
}
